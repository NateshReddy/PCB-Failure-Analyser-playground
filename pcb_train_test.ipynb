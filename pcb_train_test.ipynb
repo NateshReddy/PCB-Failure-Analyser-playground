{
  "nbformat": 4,
  "nbformat_minor": 0,
  "metadata": {
    "colab": {
      "name": "pcb_train_test",
      "provenance": [],
      "mount_file_id": "1JA5PS-UKJ9fipbKZ-7sSyFnlg04taq90",
      "authorship_tag": "ABX9TyNMTD4Aui/XZNiM+o4Ox2Sm",
      "include_colab_link": true
    },
    "kernelspec": {
      "name": "python3",
      "display_name": "Python 3"
    },
    "language_info": {
      "name": "python"
    },
    "accelerator": "GPU",
    "widgets": {
      "application/vnd.jupyter.widget-state+json": {
        "79f1461582fe447c94c11b857264147b": {
          "model_module": "@jupyter-widgets/controls",
          "model_name": "HBoxModel",
          "state": {
            "_view_name": "HBoxView",
            "_dom_classes": [],
            "_model_name": "HBoxModel",
            "_view_module": "@jupyter-widgets/controls",
            "_model_module_version": "1.5.0",
            "_view_count": null,
            "_view_module_version": "1.5.0",
            "box_style": "",
            "layout": "IPY_MODEL_53ec8e28053743dcbc862ed28f01ace3",
            "_model_module": "@jupyter-widgets/controls",
            "children": [
              "IPY_MODEL_cd49826bf7884d79b68c5a01b7710e69",
              "IPY_MODEL_f3acac5e298d43fc8997fa23f521f924"
            ]
          }
        },
        "53ec8e28053743dcbc862ed28f01ace3": {
          "model_module": "@jupyter-widgets/base",
          "model_name": "LayoutModel",
          "state": {
            "_view_name": "LayoutView",
            "grid_template_rows": null,
            "right": null,
            "justify_content": null,
            "_view_module": "@jupyter-widgets/base",
            "overflow": null,
            "_model_module_version": "1.2.0",
            "_view_count": null,
            "flex_flow": null,
            "width": null,
            "min_width": null,
            "border": null,
            "align_items": null,
            "bottom": null,
            "_model_module": "@jupyter-widgets/base",
            "top": null,
            "grid_column": null,
            "overflow_y": null,
            "overflow_x": null,
            "grid_auto_flow": null,
            "grid_area": null,
            "grid_template_columns": null,
            "flex": null,
            "_model_name": "LayoutModel",
            "justify_items": null,
            "grid_row": null,
            "max_height": null,
            "align_content": null,
            "visibility": null,
            "align_self": null,
            "height": null,
            "min_height": null,
            "padding": null,
            "grid_auto_rows": null,
            "grid_gap": null,
            "max_width": null,
            "order": null,
            "_view_module_version": "1.2.0",
            "grid_template_areas": null,
            "object_position": null,
            "object_fit": null,
            "grid_auto_columns": null,
            "margin": null,
            "display": null,
            "left": null
          }
        },
        "cd49826bf7884d79b68c5a01b7710e69": {
          "model_module": "@jupyter-widgets/controls",
          "model_name": "FloatProgressModel",
          "state": {
            "_view_name": "ProgressView",
            "style": "IPY_MODEL_c2718f9048cb4f8ab759e15dfa7f789e",
            "_dom_classes": [],
            "description": "100%",
            "_model_name": "FloatProgressModel",
            "bar_style": "success",
            "max": 87306240,
            "_view_module": "@jupyter-widgets/controls",
            "_model_module_version": "1.5.0",
            "value": 87306240,
            "_view_count": null,
            "_view_module_version": "1.5.0",
            "orientation": "horizontal",
            "min": 0,
            "description_tooltip": null,
            "_model_module": "@jupyter-widgets/controls",
            "layout": "IPY_MODEL_bb294614d5c2412ebe24bae6cf98f41b"
          }
        },
        "f3acac5e298d43fc8997fa23f521f924": {
          "model_module": "@jupyter-widgets/controls",
          "model_name": "HTMLModel",
          "state": {
            "_view_name": "HTMLView",
            "style": "IPY_MODEL_88536acb30264d1b8dba547bd37544ce",
            "_dom_classes": [],
            "description": "",
            "_model_name": "HTMLModel",
            "placeholder": "​",
            "_view_module": "@jupyter-widgets/controls",
            "_model_module_version": "1.5.0",
            "value": " 83.3M/83.3M [02:42&lt;00:00, 536kB/s]",
            "_view_count": null,
            "_view_module_version": "1.5.0",
            "description_tooltip": null,
            "_model_module": "@jupyter-widgets/controls",
            "layout": "IPY_MODEL_58764f8ec8a94cfca428a9c95ee6e0cc"
          }
        },
        "c2718f9048cb4f8ab759e15dfa7f789e": {
          "model_module": "@jupyter-widgets/controls",
          "model_name": "ProgressStyleModel",
          "state": {
            "_view_name": "StyleView",
            "_model_name": "ProgressStyleModel",
            "description_width": "initial",
            "_view_module": "@jupyter-widgets/base",
            "_model_module_version": "1.5.0",
            "_view_count": null,
            "_view_module_version": "1.2.0",
            "bar_color": null,
            "_model_module": "@jupyter-widgets/controls"
          }
        },
        "bb294614d5c2412ebe24bae6cf98f41b": {
          "model_module": "@jupyter-widgets/base",
          "model_name": "LayoutModel",
          "state": {
            "_view_name": "LayoutView",
            "grid_template_rows": null,
            "right": null,
            "justify_content": null,
            "_view_module": "@jupyter-widgets/base",
            "overflow": null,
            "_model_module_version": "1.2.0",
            "_view_count": null,
            "flex_flow": null,
            "width": null,
            "min_width": null,
            "border": null,
            "align_items": null,
            "bottom": null,
            "_model_module": "@jupyter-widgets/base",
            "top": null,
            "grid_column": null,
            "overflow_y": null,
            "overflow_x": null,
            "grid_auto_flow": null,
            "grid_area": null,
            "grid_template_columns": null,
            "flex": null,
            "_model_name": "LayoutModel",
            "justify_items": null,
            "grid_row": null,
            "max_height": null,
            "align_content": null,
            "visibility": null,
            "align_self": null,
            "height": null,
            "min_height": null,
            "padding": null,
            "grid_auto_rows": null,
            "grid_gap": null,
            "max_width": null,
            "order": null,
            "_view_module_version": "1.2.0",
            "grid_template_areas": null,
            "object_position": null,
            "object_fit": null,
            "grid_auto_columns": null,
            "margin": null,
            "display": null,
            "left": null
          }
        },
        "88536acb30264d1b8dba547bd37544ce": {
          "model_module": "@jupyter-widgets/controls",
          "model_name": "DescriptionStyleModel",
          "state": {
            "_view_name": "StyleView",
            "_model_name": "DescriptionStyleModel",
            "description_width": "",
            "_view_module": "@jupyter-widgets/base",
            "_model_module_version": "1.5.0",
            "_view_count": null,
            "_view_module_version": "1.2.0",
            "_model_module": "@jupyter-widgets/controls"
          }
        },
        "58764f8ec8a94cfca428a9c95ee6e0cc": {
          "model_module": "@jupyter-widgets/base",
          "model_name": "LayoutModel",
          "state": {
            "_view_name": "LayoutView",
            "grid_template_rows": null,
            "right": null,
            "justify_content": null,
            "_view_module": "@jupyter-widgets/base",
            "overflow": null,
            "_model_module_version": "1.2.0",
            "_view_count": null,
            "flex_flow": null,
            "width": null,
            "min_width": null,
            "border": null,
            "align_items": null,
            "bottom": null,
            "_model_module": "@jupyter-widgets/base",
            "top": null,
            "grid_column": null,
            "overflow_y": null,
            "overflow_x": null,
            "grid_auto_flow": null,
            "grid_area": null,
            "grid_template_columns": null,
            "flex": null,
            "_model_name": "LayoutModel",
            "justify_items": null,
            "grid_row": null,
            "max_height": null,
            "align_content": null,
            "visibility": null,
            "align_self": null,
            "height": null,
            "min_height": null,
            "padding": null,
            "grid_auto_rows": null,
            "grid_gap": null,
            "max_width": null,
            "order": null,
            "_view_module_version": "1.2.0",
            "grid_template_areas": null,
            "object_position": null,
            "object_fit": null,
            "grid_auto_columns": null,
            "margin": null,
            "display": null,
            "left": null
          }
        },
        "9e64682b85e546a189fd43e181a1daba": {
          "model_module": "@jupyter-widgets/controls",
          "model_name": "HBoxModel",
          "state": {
            "_view_name": "HBoxView",
            "_dom_classes": [],
            "_model_name": "HBoxModel",
            "_view_module": "@jupyter-widgets/controls",
            "_model_module_version": "1.5.0",
            "_view_count": null,
            "_view_module_version": "1.5.0",
            "box_style": "",
            "layout": "IPY_MODEL_0afea6dd9f314da68e6e2a879a81a4db",
            "_model_module": "@jupyter-widgets/controls",
            "children": [
              "IPY_MODEL_ebfc6631b19c44bbbc8147f577a14d14",
              "IPY_MODEL_d8e731bc66f64a8e9e0020917b417007"
            ]
          }
        },
        "0afea6dd9f314da68e6e2a879a81a4db": {
          "model_module": "@jupyter-widgets/base",
          "model_name": "LayoutModel",
          "state": {
            "_view_name": "LayoutView",
            "grid_template_rows": null,
            "right": null,
            "justify_content": null,
            "_view_module": "@jupyter-widgets/base",
            "overflow": null,
            "_model_module_version": "1.2.0",
            "_view_count": null,
            "flex_flow": null,
            "width": null,
            "min_width": null,
            "border": null,
            "align_items": null,
            "bottom": null,
            "_model_module": "@jupyter-widgets/base",
            "top": null,
            "grid_column": null,
            "overflow_y": null,
            "overflow_x": null,
            "grid_auto_flow": null,
            "grid_area": null,
            "grid_template_columns": null,
            "flex": null,
            "_model_name": "LayoutModel",
            "justify_items": null,
            "grid_row": null,
            "max_height": null,
            "align_content": null,
            "visibility": null,
            "align_self": null,
            "height": null,
            "min_height": null,
            "padding": null,
            "grid_auto_rows": null,
            "grid_gap": null,
            "max_width": null,
            "order": null,
            "_view_module_version": "1.2.0",
            "grid_template_areas": null,
            "object_position": null,
            "object_fit": null,
            "grid_auto_columns": null,
            "margin": null,
            "display": null,
            "left": null
          }
        },
        "ebfc6631b19c44bbbc8147f577a14d14": {
          "model_module": "@jupyter-widgets/controls",
          "model_name": "FloatProgressModel",
          "state": {
            "_view_name": "ProgressView",
            "style": "IPY_MODEL_97bda344249e44029f95df04e6c0c40d",
            "_dom_classes": [],
            "description": "100%",
            "_model_name": "FloatProgressModel",
            "bar_style": "success",
            "max": 553507836,
            "_view_module": "@jupyter-widgets/controls",
            "_model_module_version": "1.5.0",
            "value": 553507836,
            "_view_count": null,
            "_view_module_version": "1.5.0",
            "orientation": "horizontal",
            "min": 0,
            "description_tooltip": null,
            "_model_module": "@jupyter-widgets/controls",
            "layout": "IPY_MODEL_1f24e63278a448d1b4960e00fbd599bf"
          }
        },
        "d8e731bc66f64a8e9e0020917b417007": {
          "model_module": "@jupyter-widgets/controls",
          "model_name": "HTMLModel",
          "state": {
            "_view_name": "HTMLView",
            "style": "IPY_MODEL_b99ea95d2fa24b1099bd0ba47e2de547",
            "_dom_classes": [],
            "description": "",
            "_model_name": "HTMLModel",
            "placeholder": "​",
            "_view_module": "@jupyter-widgets/controls",
            "_model_module_version": "1.5.0",
            "value": " 528M/528M [00:06&lt;00:00, 80.4MB/s]",
            "_view_count": null,
            "_view_module_version": "1.5.0",
            "description_tooltip": null,
            "_model_module": "@jupyter-widgets/controls",
            "layout": "IPY_MODEL_78cdb3f8802b4fa7b79c18e8cdb7a80f"
          }
        },
        "97bda344249e44029f95df04e6c0c40d": {
          "model_module": "@jupyter-widgets/controls",
          "model_name": "ProgressStyleModel",
          "state": {
            "_view_name": "StyleView",
            "_model_name": "ProgressStyleModel",
            "description_width": "initial",
            "_view_module": "@jupyter-widgets/base",
            "_model_module_version": "1.5.0",
            "_view_count": null,
            "_view_module_version": "1.2.0",
            "bar_color": null,
            "_model_module": "@jupyter-widgets/controls"
          }
        },
        "1f24e63278a448d1b4960e00fbd599bf": {
          "model_module": "@jupyter-widgets/base",
          "model_name": "LayoutModel",
          "state": {
            "_view_name": "LayoutView",
            "grid_template_rows": null,
            "right": null,
            "justify_content": null,
            "_view_module": "@jupyter-widgets/base",
            "overflow": null,
            "_model_module_version": "1.2.0",
            "_view_count": null,
            "flex_flow": null,
            "width": null,
            "min_width": null,
            "border": null,
            "align_items": null,
            "bottom": null,
            "_model_module": "@jupyter-widgets/base",
            "top": null,
            "grid_column": null,
            "overflow_y": null,
            "overflow_x": null,
            "grid_auto_flow": null,
            "grid_area": null,
            "grid_template_columns": null,
            "flex": null,
            "_model_name": "LayoutModel",
            "justify_items": null,
            "grid_row": null,
            "max_height": null,
            "align_content": null,
            "visibility": null,
            "align_self": null,
            "height": null,
            "min_height": null,
            "padding": null,
            "grid_auto_rows": null,
            "grid_gap": null,
            "max_width": null,
            "order": null,
            "_view_module_version": "1.2.0",
            "grid_template_areas": null,
            "object_position": null,
            "object_fit": null,
            "grid_auto_columns": null,
            "margin": null,
            "display": null,
            "left": null
          }
        },
        "b99ea95d2fa24b1099bd0ba47e2de547": {
          "model_module": "@jupyter-widgets/controls",
          "model_name": "DescriptionStyleModel",
          "state": {
            "_view_name": "StyleView",
            "_model_name": "DescriptionStyleModel",
            "description_width": "",
            "_view_module": "@jupyter-widgets/base",
            "_model_module_version": "1.5.0",
            "_view_count": null,
            "_view_module_version": "1.2.0",
            "_model_module": "@jupyter-widgets/controls"
          }
        },
        "78cdb3f8802b4fa7b79c18e8cdb7a80f": {
          "model_module": "@jupyter-widgets/base",
          "model_name": "LayoutModel",
          "state": {
            "_view_name": "LayoutView",
            "grid_template_rows": null,
            "right": null,
            "justify_content": null,
            "_view_module": "@jupyter-widgets/base",
            "overflow": null,
            "_model_module_version": "1.2.0",
            "_view_count": null,
            "flex_flow": null,
            "width": null,
            "min_width": null,
            "border": null,
            "align_items": null,
            "bottom": null,
            "_model_module": "@jupyter-widgets/base",
            "top": null,
            "grid_column": null,
            "overflow_y": null,
            "overflow_x": null,
            "grid_auto_flow": null,
            "grid_area": null,
            "grid_template_columns": null,
            "flex": null,
            "_model_name": "LayoutModel",
            "justify_items": null,
            "grid_row": null,
            "max_height": null,
            "align_content": null,
            "visibility": null,
            "align_self": null,
            "height": null,
            "min_height": null,
            "padding": null,
            "grid_auto_rows": null,
            "grid_gap": null,
            "max_width": null,
            "order": null,
            "_view_module_version": "1.2.0",
            "grid_template_areas": null,
            "object_position": null,
            "object_fit": null,
            "grid_auto_columns": null,
            "margin": null,
            "display": null,
            "left": null
          }
        },
        "0b67801787754e2a920281e984bc8411": {
          "model_module": "@jupyter-widgets/controls",
          "model_name": "HBoxModel",
          "state": {
            "_view_name": "HBoxView",
            "_dom_classes": [],
            "_model_name": "HBoxModel",
            "_view_module": "@jupyter-widgets/controls",
            "_model_module_version": "1.5.0",
            "_view_count": null,
            "_view_module_version": "1.5.0",
            "box_style": "",
            "layout": "IPY_MODEL_fa0d7018bccb4bda97b1c0338f5f855f",
            "_model_module": "@jupyter-widgets/controls",
            "children": [
              "IPY_MODEL_f2447c7af1fc45cab6263d66b60efbf8",
              "IPY_MODEL_79a4ed3e1c90479d9ee202af47dfc765"
            ]
          }
        },
        "fa0d7018bccb4bda97b1c0338f5f855f": {
          "model_module": "@jupyter-widgets/base",
          "model_name": "LayoutModel",
          "state": {
            "_view_name": "LayoutView",
            "grid_template_rows": null,
            "right": null,
            "justify_content": null,
            "_view_module": "@jupyter-widgets/base",
            "overflow": null,
            "_model_module_version": "1.2.0",
            "_view_count": null,
            "flex_flow": null,
            "width": null,
            "min_width": null,
            "border": null,
            "align_items": null,
            "bottom": null,
            "_model_module": "@jupyter-widgets/base",
            "top": null,
            "grid_column": null,
            "overflow_y": null,
            "overflow_x": null,
            "grid_auto_flow": null,
            "grid_area": null,
            "grid_template_columns": null,
            "flex": null,
            "_model_name": "LayoutModel",
            "justify_items": null,
            "grid_row": null,
            "max_height": null,
            "align_content": null,
            "visibility": null,
            "align_self": null,
            "height": null,
            "min_height": null,
            "padding": null,
            "grid_auto_rows": null,
            "grid_gap": null,
            "max_width": null,
            "order": null,
            "_view_module_version": "1.2.0",
            "grid_template_areas": null,
            "object_position": null,
            "object_fit": null,
            "grid_auto_columns": null,
            "margin": null,
            "display": null,
            "left": null
          }
        },
        "f2447c7af1fc45cab6263d66b60efbf8": {
          "model_module": "@jupyter-widgets/controls",
          "model_name": "FloatProgressModel",
          "state": {
            "_view_name": "ProgressView",
            "style": "IPY_MODEL_532d11213d824363994e531e4e343e3b",
            "_dom_classes": [],
            "description": "100%",
            "_model_name": "FloatProgressModel",
            "bar_style": "success",
            "max": 108857766,
            "_view_module": "@jupyter-widgets/controls",
            "_model_module_version": "1.5.0",
            "value": 108857766,
            "_view_count": null,
            "_view_module_version": "1.5.0",
            "orientation": "horizontal",
            "min": 0,
            "description_tooltip": null,
            "_model_module": "@jupyter-widgets/controls",
            "layout": "IPY_MODEL_efdfeb74b129491f93d24e18140c070d"
          }
        },
        "79a4ed3e1c90479d9ee202af47dfc765": {
          "model_module": "@jupyter-widgets/controls",
          "model_name": "HTMLModel",
          "state": {
            "_view_name": "HTMLView",
            "style": "IPY_MODEL_3b996c28882646728cca927eb90dc9a0",
            "_dom_classes": [],
            "description": "",
            "_model_name": "HTMLModel",
            "placeholder": "​",
            "_view_module": "@jupyter-widgets/controls",
            "_model_module_version": "1.5.0",
            "value": " 104M/104M [00:25&lt;00:00, 4.31MB/s]",
            "_view_count": null,
            "_view_module_version": "1.5.0",
            "description_tooltip": null,
            "_model_module": "@jupyter-widgets/controls",
            "layout": "IPY_MODEL_2f94117d873e488387ad77fb29d2296f"
          }
        },
        "532d11213d824363994e531e4e343e3b": {
          "model_module": "@jupyter-widgets/controls",
          "model_name": "ProgressStyleModel",
          "state": {
            "_view_name": "StyleView",
            "_model_name": "ProgressStyleModel",
            "description_width": "initial",
            "_view_module": "@jupyter-widgets/base",
            "_model_module_version": "1.5.0",
            "_view_count": null,
            "_view_module_version": "1.2.0",
            "bar_color": null,
            "_model_module": "@jupyter-widgets/controls"
          }
        },
        "efdfeb74b129491f93d24e18140c070d": {
          "model_module": "@jupyter-widgets/base",
          "model_name": "LayoutModel",
          "state": {
            "_view_name": "LayoutView",
            "grid_template_rows": null,
            "right": null,
            "justify_content": null,
            "_view_module": "@jupyter-widgets/base",
            "overflow": null,
            "_model_module_version": "1.2.0",
            "_view_count": null,
            "flex_flow": null,
            "width": null,
            "min_width": null,
            "border": null,
            "align_items": null,
            "bottom": null,
            "_model_module": "@jupyter-widgets/base",
            "top": null,
            "grid_column": null,
            "overflow_y": null,
            "overflow_x": null,
            "grid_auto_flow": null,
            "grid_area": null,
            "grid_template_columns": null,
            "flex": null,
            "_model_name": "LayoutModel",
            "justify_items": null,
            "grid_row": null,
            "max_height": null,
            "align_content": null,
            "visibility": null,
            "align_self": null,
            "height": null,
            "min_height": null,
            "padding": null,
            "grid_auto_rows": null,
            "grid_gap": null,
            "max_width": null,
            "order": null,
            "_view_module_version": "1.2.0",
            "grid_template_areas": null,
            "object_position": null,
            "object_fit": null,
            "grid_auto_columns": null,
            "margin": null,
            "display": null,
            "left": null
          }
        },
        "3b996c28882646728cca927eb90dc9a0": {
          "model_module": "@jupyter-widgets/controls",
          "model_name": "DescriptionStyleModel",
          "state": {
            "_view_name": "StyleView",
            "_model_name": "DescriptionStyleModel",
            "description_width": "",
            "_view_module": "@jupyter-widgets/base",
            "_model_module_version": "1.5.0",
            "_view_count": null,
            "_view_module_version": "1.2.0",
            "_model_module": "@jupyter-widgets/controls"
          }
        },
        "2f94117d873e488387ad77fb29d2296f": {
          "model_module": "@jupyter-widgets/base",
          "model_name": "LayoutModel",
          "state": {
            "_view_name": "LayoutView",
            "grid_template_rows": null,
            "right": null,
            "justify_content": null,
            "_view_module": "@jupyter-widgets/base",
            "overflow": null,
            "_model_module_version": "1.2.0",
            "_view_count": null,
            "flex_flow": null,
            "width": null,
            "min_width": null,
            "border": null,
            "align_items": null,
            "bottom": null,
            "_model_module": "@jupyter-widgets/base",
            "top": null,
            "grid_column": null,
            "overflow_y": null,
            "overflow_x": null,
            "grid_auto_flow": null,
            "grid_area": null,
            "grid_template_columns": null,
            "flex": null,
            "_model_name": "LayoutModel",
            "justify_items": null,
            "grid_row": null,
            "max_height": null,
            "align_content": null,
            "visibility": null,
            "align_self": null,
            "height": null,
            "min_height": null,
            "padding": null,
            "grid_auto_rows": null,
            "grid_gap": null,
            "max_width": null,
            "order": null,
            "_view_module_version": "1.2.0",
            "grid_template_areas": null,
            "object_position": null,
            "object_fit": null,
            "grid_auto_columns": null,
            "margin": null,
            "display": null,
            "left": null
          }
        }
      }
    }
  },
  "cells": [
    {
      "cell_type": "markdown",
      "metadata": {
        "id": "view-in-github",
        "colab_type": "text"
      },
      "source": [
        "<a href=\"https://colab.research.google.com/github/NateshReddy/PCB-Failure-Analyser-playground/blob/main/pcb_train_test.ipynb\" target=\"_parent\"><img src=\"https://colab.research.google.com/assets/colab-badge.svg\" alt=\"Open In Colab\"/></a>"
      ]
    },
    {
      "cell_type": "markdown",
      "metadata": {
        "id": "5SJ-eMcUWEWR"
      },
      "source": [
        "# Importing Libraries"
      ]
    },
    {
      "cell_type": "code",
      "metadata": {
        "id": "VuhNf4uYg5UJ"
      },
      "source": [
        "import os\n",
        "os.chdir(\"/content/drive/MyDrive/Project/failure_analysis/notebooks\")"
      ],
      "execution_count": null,
      "outputs": []
    },
    {
      "cell_type": "code",
      "metadata": {
        "colab": {
          "base_uri": "https://localhost:8080/"
        },
        "id": "dbb31Mpdg7NJ",
        "outputId": "2638d51b-97fe-48ae-efb4-059f0fdee5d3"
      },
      "source": [
        "import shutil\n",
        "import cv2\n",
        "import numpy as np\n",
        "import json\n",
        "import glob\n",
        "import pandas as pd\n",
        "import zipfile\n",
        "import matplotlib.pyplot as plt\n",
        "from pylab import rcParams\n",
        "from sklearn.utils import resample\n",
        "from fastai.vision import *\n",
        "import torch, torchvision\n",
        "from fastai.metrics import error_rate # 1 - accuracy\n",
        "from fastai.callbacks import EarlyStoppingCallback,SaveModelCallback\n",
        "print(torch.__version__)\n",
        "print(torchvision.__version__)"
      ],
      "execution_count": null,
      "outputs": [
        {
          "output_type": "stream",
          "text": [
            "1.8.1+cu101\n",
            "0.9.1+cu101\n"
          ],
          "name": "stdout"
        }
      ]
    },
    {
      "cell_type": "markdown",
      "metadata": {
        "id": "mwXr_nU-V9AH"
      },
      "source": [
        "# Loading Dataset"
      ]
    },
    {
      "cell_type": "code",
      "metadata": {
        "colab": {
          "base_uri": "https://localhost:8080/"
        },
        "id": "GkkQsoa9g9RB",
        "outputId": "1470d5f9-1528-49b1-81f8-e08f0505edaf"
      },
      "source": [
        "# here valid is given the folder to be used as validation set, test folder refers to images we used as testing images\n",
        "np.random.seed(42)\n",
        "path = \"training_csvs/\"\n",
        "data = ImageDataBunch.from_folder(path, train='train', valid='test', ds_tfms=get_transforms(), size=224, num_workers=4, bs=10).normalize(imagenet_stats)"
      ],
      "execution_count": null,
      "outputs": [
        {
          "output_type": "stream",
          "text": [
            "/usr/local/lib/python3.7/dist-packages/torch/utils/data/dataloader.py:477: UserWarning: This DataLoader will create 4 worker processes in total. Our suggested max number of worker in current system is 2, which is smaller than what this DataLoader is going to create. Please be aware that excessive worker creation might get DataLoader running slow or even freeze, lower the worker number to avoid potential slowness/freeze if necessary.\n",
            "  cpuset_checked))\n"
          ],
          "name": "stderr"
        }
      ]
    },
    {
      "cell_type": "code",
      "metadata": {
        "colab": {
          "base_uri": "https://localhost:8080/"
        },
        "id": "iVlfgudGiEwQ",
        "outputId": "e9e878f3-f05e-4bca-f677-8be79ca01de3"
      },
      "source": [
        "data.classes"
      ],
      "execution_count": null,
      "outputs": [
        {
          "output_type": "execute_result",
          "data": {
            "text/plain": [
              "['mousebite', 'not_error', 'open', 'pin_hole', 'short', 'spur', 'spurious']"
            ]
          },
          "metadata": {
            "tags": []
          },
          "execution_count": 4
        }
      ]
    },
    {
      "cell_type": "code",
      "metadata": {
        "colab": {
          "base_uri": "https://localhost:8080/"
        },
        "id": "Ymka519Qihsp",
        "outputId": "6bba24a1-3506-4fce-88a4-2e9e4ca1a6ff"
      },
      "source": [
        "data"
      ],
      "execution_count": null,
      "outputs": [
        {
          "output_type": "execute_result",
          "data": {
            "text/plain": [
              "ImageDataBunch;\n",
              "\n",
              "Train: LabelList (1923 items)\n",
              "x: ImageList\n",
              "Image (3, 224, 224),Image (3, 224, 224),Image (3, 224, 224),Image (3, 224, 224),Image (3, 224, 224)\n",
              "y: CategoryList\n",
              "short,short,short,short,short\n",
              "Path: training_csvs;\n",
              "\n",
              "Valid: LabelList (317 items)\n",
              "x: ImageList\n",
              "Image (3, 224, 224),Image (3, 224, 224),Image (3, 224, 224),Image (3, 224, 224),Image (3, 224, 224)\n",
              "y: CategoryList\n",
              "short,short,short,short,short\n",
              "Path: training_csvs;\n",
              "\n",
              "Test: None"
            ]
          },
          "metadata": {
            "tags": []
          },
          "execution_count": 5
        }
      ]
    },
    {
      "cell_type": "code",
      "metadata": {
        "colab": {
          "base_uri": "https://localhost:8080/",
          "height": 585
        },
        "id": "hDsLkBeOijLg",
        "outputId": "fa53b24f-86b1-40c5-fa13-37a9cae067ae"
      },
      "source": [
        "data.show_batch(rows=4, figsize=(7, 8))"
      ],
      "execution_count": null,
      "outputs": [
        {
          "output_type": "display_data",
          "data": {
            "image/png": "[encoded data removed]",
            "text/plain": [
              "<Figure size 504x576 with 16 Axes>"
            ]
          },
          "metadata": {
            "tags": [],
            "needs_background": "light"
          }
        }
      ]
    },
    {
      "cell_type": "markdown",
      "metadata": {
        "id": "CPlVXNyUO5nk"
      },
      "source": [
        "# Train RESNET34"
      ]
    },
    {
      "cell_type": "code",
      "metadata": {
        "colab": {
          "base_uri": "https://localhost:8080/",
          "height": 137,
          "referenced_widgets": [
            "79f1461582fe447c94c11b857264147b",
            "53ec8e28053743dcbc862ed28f01ace3",
            "cd49826bf7884d79b68c5a01b7710e69",
            "f3acac5e298d43fc8997fa23f521f924",
            "c2718f9048cb4f8ab759e15dfa7f789e",
            "bb294614d5c2412ebe24bae6cf98f41b",
            "88536acb30264d1b8dba547bd37544ce",
            "58764f8ec8a94cfca428a9c95ee6e0cc"
          ]
        },
        "id": "-nQwd8M-ixIu",
        "outputId": "c8e8512b-486b-4bdc-a968-77f841b3cb7b"
      },
      "source": [
        "learn = create_cnn(data, models.resnet34, metrics=accuracy)"
      ],
      "execution_count": null,
      "outputs": [
        {
          "output_type": "stream",
          "text": [
            "/usr/local/lib/python3.7/dist-packages/fastai/vision/learner.py:109: UserWarning: `create_cnn` is deprecated and is now named `cnn_learner`.\n",
            "  warn(\"`create_cnn` is deprecated and is now named `cnn_learner`.\")\n",
            "Downloading: \"https://download.pytorch.org/models/resnet34-333f7ec4.pth\" to /root/.cache/torch/hub/checkpoints/resnet34-333f7ec4.pth\n"
          ],
          "name": "stderr"
        },
        {
          "output_type": "display_data",
          "data": {
            "application/vnd.jupyter.widget-view+json": {
              "model_id": "79f1461582fe447c94c11b857264147b",
              "version_minor": 0,
              "version_major": 2
            },
            "text/plain": [
              "HBox(children=(FloatProgress(value=0.0, max=87306240.0), HTML(value='')))"
            ]
          },
          "metadata": {
            "tags": []
          }
        },
        {
          "output_type": "stream",
          "text": [
            "\n"
          ],
          "name": "stdout"
        }
      ]
    },
    {
      "cell_type": "code",
      "metadata": {
        "colab": {
          "base_uri": "https://localhost:8080/",
          "height": 723
        },
        "id": "WWqJdOPgjaG_",
        "outputId": "98b7529d-7e2a-47f6-894f-fd7307bd79dd"
      },
      "source": [
        "defaults.device = torch.device('cuda')\n",
        "learn.fit_one_cycle(20)"
      ],
      "execution_count": null,
      "outputs": [
        {
          "output_type": "display_data",
          "data": {
            "text/html": [
              "<table border=\"1\" class=\"dataframe\">\n",
              "  <thead>\n",
              "    <tr style=\"text-align: left;\">\n",
              "      <th>epoch</th>\n",
              "      <th>train_loss</th>\n",
              "      <th>valid_loss</th>\n",
              "      <th>accuracy</th>\n",
              "      <th>time</th>\n",
              "    </tr>\n",
              "  </thead>\n",
              "  <tbody>\n",
              "    <tr>\n",
              "      <td>0</td>\n",
              "      <td>1.586285</td>\n",
              "      <td>0.969268</td>\n",
              "      <td>0.624606</td>\n",
              "      <td>01:37</td>\n",
              "    </tr>\n",
              "    <tr>\n",
              "      <td>1</td>\n",
              "      <td>1.009123</td>\n",
              "      <td>0.870405</td>\n",
              "      <td>0.706625</td>\n",
              "      <td>00:19</td>\n",
              "    </tr>\n",
              "    <tr>\n",
              "      <td>2</td>\n",
              "      <td>0.755737</td>\n",
              "      <td>0.679346</td>\n",
              "      <td>0.772871</td>\n",
              "      <td>00:19</td>\n",
              "    </tr>\n",
              "    <tr>\n",
              "      <td>3</td>\n",
              "      <td>0.763707</td>\n",
              "      <td>0.786651</td>\n",
              "      <td>0.757098</td>\n",
              "      <td>00:19</td>\n",
              "    </tr>\n",
              "    <tr>\n",
              "      <td>4</td>\n",
              "      <td>0.646281</td>\n",
              "      <td>0.497401</td>\n",
              "      <td>0.823344</td>\n",
              "      <td>00:19</td>\n",
              "    </tr>\n",
              "    <tr>\n",
              "      <td>5</td>\n",
              "      <td>0.531305</td>\n",
              "      <td>0.451458</td>\n",
              "      <td>0.842271</td>\n",
              "      <td>00:19</td>\n",
              "    </tr>\n",
              "    <tr>\n",
              "      <td>6</td>\n",
              "      <td>0.487528</td>\n",
              "      <td>0.388132</td>\n",
              "      <td>0.845426</td>\n",
              "      <td>00:19</td>\n",
              "    </tr>\n",
              "    <tr>\n",
              "      <td>7</td>\n",
              "      <td>0.375796</td>\n",
              "      <td>0.366000</td>\n",
              "      <td>0.889590</td>\n",
              "      <td>00:19</td>\n",
              "    </tr>\n",
              "    <tr>\n",
              "      <td>8</td>\n",
              "      <td>0.339524</td>\n",
              "      <td>0.200218</td>\n",
              "      <td>0.927445</td>\n",
              "      <td>00:20</td>\n",
              "    </tr>\n",
              "    <tr>\n",
              "      <td>9</td>\n",
              "      <td>0.342289</td>\n",
              "      <td>0.233396</td>\n",
              "      <td>0.914827</td>\n",
              "      <td>00:19</td>\n",
              "    </tr>\n",
              "    <tr>\n",
              "      <td>10</td>\n",
              "      <td>0.345227</td>\n",
              "      <td>0.159189</td>\n",
              "      <td>0.933754</td>\n",
              "      <td>00:19</td>\n",
              "    </tr>\n",
              "    <tr>\n",
              "      <td>11</td>\n",
              "      <td>0.205425</td>\n",
              "      <td>0.359272</td>\n",
              "      <td>0.876972</td>\n",
              "      <td>00:19</td>\n",
              "    </tr>\n",
              "    <tr>\n",
              "      <td>12</td>\n",
              "      <td>0.199651</td>\n",
              "      <td>0.217393</td>\n",
              "      <td>0.905363</td>\n",
              "      <td>00:20</td>\n",
              "    </tr>\n",
              "    <tr>\n",
              "      <td>13</td>\n",
              "      <td>0.196403</td>\n",
              "      <td>0.322023</td>\n",
              "      <td>0.880126</td>\n",
              "      <td>00:20</td>\n",
              "    </tr>\n",
              "    <tr>\n",
              "      <td>14</td>\n",
              "      <td>0.145774</td>\n",
              "      <td>0.250550</td>\n",
              "      <td>0.902208</td>\n",
              "      <td>00:20</td>\n",
              "    </tr>\n",
              "    <tr>\n",
              "      <td>15</td>\n",
              "      <td>0.197077</td>\n",
              "      <td>0.155797</td>\n",
              "      <td>0.946372</td>\n",
              "      <td>00:20</td>\n",
              "    </tr>\n",
              "    <tr>\n",
              "      <td>16</td>\n",
              "      <td>0.140743</td>\n",
              "      <td>0.163672</td>\n",
              "      <td>0.924290</td>\n",
              "      <td>00:20</td>\n",
              "    </tr>\n",
              "    <tr>\n",
              "      <td>17</td>\n",
              "      <td>0.134254</td>\n",
              "      <td>0.188724</td>\n",
              "      <td>0.917981</td>\n",
              "      <td>00:20</td>\n",
              "    </tr>\n",
              "    <tr>\n",
              "      <td>18</td>\n",
              "      <td>0.150293</td>\n",
              "      <td>0.136973</td>\n",
              "      <td>0.952681</td>\n",
              "      <td>00:20</td>\n",
              "    </tr>\n",
              "    <tr>\n",
              "      <td>19</td>\n",
              "      <td>0.159012</td>\n",
              "      <td>0.178055</td>\n",
              "      <td>0.924290</td>\n",
              "      <td>00:20</td>\n",
              "    </tr>\n",
              "  </tbody>\n",
              "</table>"
            ],
            "text/plain": [
              "<IPython.core.display.HTML object>"
            ]
          },
          "metadata": {
            "tags": []
          }
        },
        {
          "output_type": "stream",
          "text": [
            "/usr/local/lib/python3.7/dist-packages/torch/utils/data/dataloader.py:477: UserWarning: This DataLoader will create 4 worker processes in total. Our suggested max number of worker in current system is 2, which is smaller than what this DataLoader is going to create. Please be aware that excessive worker creation might get DataLoader running slow or even freeze, lower the worker number to avoid potential slowness/freeze if necessary.\n",
            "  cpuset_checked))\n"
          ],
          "name": "stderr"
        }
      ]
    },
    {
      "cell_type": "code",
      "metadata": {
        "colab": {
          "base_uri": "https://localhost:8080/",
          "height": 428
        },
        "id": "nj6ZN4PMjceV",
        "outputId": "5b18011d-7d09-40f9-c833-eb903ef85cc0"
      },
      "source": [
        "learn.unfreeze()\n",
        "learn.lr_find()\n",
        "learn.recorder.plot()"
      ],
      "execution_count": null,
      "outputs": [
        {
          "output_type": "display_data",
          "data": {
            "text/html": [
              "\n",
              "    <div>\n",
              "        <style>\n",
              "            /* Turns off some styling */\n",
              "            progress {\n",
              "                /* gets rid of default border in Firefox and Opera. */\n",
              "                border: none;\n",
              "                /* Needs to be in here for Safari polyfill so background images work as expected. */\n",
              "                background-size: auto;\n",
              "            }\n",
              "            .progress-bar-interrupted, .progress-bar-interrupted::-webkit-progress-bar {\n",
              "                background: #F44336;\n",
              "            }\n",
              "        </style>\n",
              "      <progress value='0' class='' max='1' style='width:300px; height:20px; vertical-align: middle;'></progress>\n",
              "      0.00% [0/1 00:00<00:00]\n",
              "    </div>\n",
              "    \n",
              "<table border=\"1\" class=\"dataframe\">\n",
              "  <thead>\n",
              "    <tr style=\"text-align: left;\">\n",
              "      <th>epoch</th>\n",
              "      <th>train_loss</th>\n",
              "      <th>valid_loss</th>\n",
              "      <th>accuracy</th>\n",
              "      <th>time</th>\n",
              "    </tr>\n",
              "  </thead>\n",
              "  <tbody>\n",
              "  </tbody>\n",
              "</table><p>\n",
              "\n",
              "    <div>\n",
              "        <style>\n",
              "            /* Turns off some styling */\n",
              "            progress {\n",
              "                /* gets rid of default border in Firefox and Opera. */\n",
              "                border: none;\n",
              "                /* Needs to be in here for Safari polyfill so background images work as expected. */\n",
              "                background-size: auto;\n",
              "            }\n",
              "            .progress-bar-interrupted, .progress-bar-interrupted::-webkit-progress-bar {\n",
              "                background: #F44336;\n",
              "            }\n",
              "        </style>\n",
              "      <progress value='55' class='' max='192' style='width:300px; height:20px; vertical-align: middle;'></progress>\n",
              "      28.65% [55/192 00:06<00:15 0.4032]\n",
              "    </div>\n",
              "    "
            ],
            "text/plain": [
              "<IPython.core.display.HTML object>"
            ]
          },
          "metadata": {
            "tags": []
          }
        },
        {
          "output_type": "stream",
          "text": [
            "/usr/local/lib/python3.7/dist-packages/torch/utils/data/dataloader.py:477: UserWarning: This DataLoader will create 4 worker processes in total. Our suggested max number of worker in current system is 2, which is smaller than what this DataLoader is going to create. Please be aware that excessive worker creation might get DataLoader running slow or even freeze, lower the worker number to avoid potential slowness/freeze if necessary.\n",
            "  cpuset_checked))\n"
          ],
          "name": "stderr"
        },
        {
          "output_type": "stream",
          "text": [
            "LR Finder is complete, type {learner_name}.recorder.plot() to see the graph.\n"
          ],
          "name": "stdout"
        },
        {
          "output_type": "display_data",
          "data": {
            "image/png": "[encoded data removed]",
            "text/plain": [
              "<Figure size 432x288 with 1 Axes>"
            ]
          },
          "metadata": {
            "tags": [],
            "needs_background": "light"
          }
        }
      ]
    },
    {
      "cell_type": "code",
      "metadata": {
        "colab": {
          "base_uri": "https://localhost:8080/",
          "height": 791
        },
        "id": "Z0bfJcObm_M_",
        "outputId": "51c19ce9-1a77-48a0-b705-355d9aceb3ba"
      },
      "source": [
        "learn.fit_one_cycle(20, max_lr=slice(1e-4, 1e-3), callbacks=[SaveModelCallback(learn)])"
      ],
      "execution_count": null,
      "outputs": [
        {
          "output_type": "display_data",
          "data": {
            "text/html": [
              "<table border=\"1\" class=\"dataframe\">\n",
              "  <thead>\n",
              "    <tr style=\"text-align: left;\">\n",
              "      <th>epoch</th>\n",
              "      <th>train_loss</th>\n",
              "      <th>valid_loss</th>\n",
              "      <th>accuracy</th>\n",
              "      <th>time</th>\n",
              "    </tr>\n",
              "  </thead>\n",
              "  <tbody>\n",
              "    <tr>\n",
              "      <td>0</td>\n",
              "      <td>0.131741</td>\n",
              "      <td>0.035464</td>\n",
              "      <td>0.984227</td>\n",
              "      <td>00:21</td>\n",
              "    </tr>\n",
              "    <tr>\n",
              "      <td>1</td>\n",
              "      <td>0.107637</td>\n",
              "      <td>0.037584</td>\n",
              "      <td>0.990536</td>\n",
              "      <td>00:21</td>\n",
              "    </tr>\n",
              "    <tr>\n",
              "      <td>2</td>\n",
              "      <td>0.123763</td>\n",
              "      <td>0.210778</td>\n",
              "      <td>0.927445</td>\n",
              "      <td>00:21</td>\n",
              "    </tr>\n",
              "    <tr>\n",
              "      <td>3</td>\n",
              "      <td>0.168469</td>\n",
              "      <td>0.075179</td>\n",
              "      <td>0.971609</td>\n",
              "      <td>00:21</td>\n",
              "    </tr>\n",
              "    <tr>\n",
              "      <td>4</td>\n",
              "      <td>0.301134</td>\n",
              "      <td>0.970467</td>\n",
              "      <td>0.829653</td>\n",
              "      <td>00:21</td>\n",
              "    </tr>\n",
              "    <tr>\n",
              "      <td>5</td>\n",
              "      <td>0.260501</td>\n",
              "      <td>0.079526</td>\n",
              "      <td>0.974763</td>\n",
              "      <td>00:21</td>\n",
              "    </tr>\n",
              "    <tr>\n",
              "      <td>6</td>\n",
              "      <td>0.197088</td>\n",
              "      <td>0.137916</td>\n",
              "      <td>0.943218</td>\n",
              "      <td>00:21</td>\n",
              "    </tr>\n",
              "    <tr>\n",
              "      <td>7</td>\n",
              "      <td>0.214323</td>\n",
              "      <td>0.122453</td>\n",
              "      <td>0.952681</td>\n",
              "      <td>00:21</td>\n",
              "    </tr>\n",
              "    <tr>\n",
              "      <td>8</td>\n",
              "      <td>0.177273</td>\n",
              "      <td>0.036485</td>\n",
              "      <td>0.987382</td>\n",
              "      <td>00:21</td>\n",
              "    </tr>\n",
              "    <tr>\n",
              "      <td>9</td>\n",
              "      <td>0.165791</td>\n",
              "      <td>0.157190</td>\n",
              "      <td>0.930599</td>\n",
              "      <td>00:21</td>\n",
              "    </tr>\n",
              "    <tr>\n",
              "      <td>10</td>\n",
              "      <td>0.158583</td>\n",
              "      <td>0.122213</td>\n",
              "      <td>0.955836</td>\n",
              "      <td>00:21</td>\n",
              "    </tr>\n",
              "    <tr>\n",
              "      <td>11</td>\n",
              "      <td>0.102490</td>\n",
              "      <td>0.184762</td>\n",
              "      <td>0.911672</td>\n",
              "      <td>00:21</td>\n",
              "    </tr>\n",
              "    <tr>\n",
              "      <td>12</td>\n",
              "      <td>0.066836</td>\n",
              "      <td>0.017196</td>\n",
              "      <td>0.996845</td>\n",
              "      <td>00:21</td>\n",
              "    </tr>\n",
              "    <tr>\n",
              "      <td>13</td>\n",
              "      <td>0.093805</td>\n",
              "      <td>0.022176</td>\n",
              "      <td>0.993691</td>\n",
              "      <td>00:21</td>\n",
              "    </tr>\n",
              "    <tr>\n",
              "      <td>14</td>\n",
              "      <td>0.046974</td>\n",
              "      <td>0.016698</td>\n",
              "      <td>0.996845</td>\n",
              "      <td>00:21</td>\n",
              "    </tr>\n",
              "    <tr>\n",
              "      <td>15</td>\n",
              "      <td>0.054782</td>\n",
              "      <td>0.010610</td>\n",
              "      <td>1.000000</td>\n",
              "      <td>00:21</td>\n",
              "    </tr>\n",
              "    <tr>\n",
              "      <td>16</td>\n",
              "      <td>0.037434</td>\n",
              "      <td>0.150944</td>\n",
              "      <td>0.952681</td>\n",
              "      <td>00:21</td>\n",
              "    </tr>\n",
              "    <tr>\n",
              "      <td>17</td>\n",
              "      <td>0.056775</td>\n",
              "      <td>0.032255</td>\n",
              "      <td>0.987382</td>\n",
              "      <td>00:20</td>\n",
              "    </tr>\n",
              "    <tr>\n",
              "      <td>18</td>\n",
              "      <td>0.030185</td>\n",
              "      <td>0.054626</td>\n",
              "      <td>0.977918</td>\n",
              "      <td>00:20</td>\n",
              "    </tr>\n",
              "    <tr>\n",
              "      <td>19</td>\n",
              "      <td>0.046608</td>\n",
              "      <td>0.050034</td>\n",
              "      <td>0.974763</td>\n",
              "      <td>00:20</td>\n",
              "    </tr>\n",
              "  </tbody>\n",
              "</table>"
            ],
            "text/plain": [
              "<IPython.core.display.HTML object>"
            ]
          },
          "metadata": {
            "tags": []
          }
        },
        {
          "output_type": "stream",
          "text": [
            "/usr/local/lib/python3.7/dist-packages/torch/utils/data/dataloader.py:477: UserWarning: This DataLoader will create 4 worker processes in total. Our suggested max number of worker in current system is 2, which is smaller than what this DataLoader is going to create. Please be aware that excessive worker creation might get DataLoader running slow or even freeze, lower the worker number to avoid potential slowness/freeze if necessary.\n",
            "  cpuset_checked))\n"
          ],
          "name": "stderr"
        },
        {
          "output_type": "stream",
          "text": [
            "Better model found at epoch 0 with valid_loss value: 0.03546426072716713.\n",
            "Better model found at epoch 12 with valid_loss value: 0.017196258530020714.\n",
            "Better model found at epoch 14 with valid_loss value: 0.016697514802217484.\n",
            "Better model found at epoch 15 with valid_loss value: 0.010609983466565609.\n"
          ],
          "name": "stdout"
        }
      ]
    },
    {
      "cell_type": "code",
      "metadata": {
        "colab": {
          "base_uri": "https://localhost:8080/",
          "height": 509
        },
        "id": "mPLKDH4inGPx",
        "outputId": "92e2c300-e21e-44a3-aaaa-a28b290938d9"
      },
      "source": [
        "interp = ClassificationInterpretation.from_learner(learn)\n",
        "interp.plot_confusion_matrix(figsize=(6,6))"
      ],
      "execution_count": null,
      "outputs": [
        {
          "output_type": "display_data",
          "data": {
            "text/html": [
              ""
            ],
            "text/plain": [
              "<IPython.core.display.HTML object>"
            ]
          },
          "metadata": {
            "tags": []
          }
        },
        {
          "output_type": "stream",
          "text": [
            "/usr/local/lib/python3.7/dist-packages/torch/utils/data/dataloader.py:477: UserWarning: This DataLoader will create 4 worker processes in total. Our suggested max number of worker in current system is 2, which is smaller than what this DataLoader is going to create. Please be aware that excessive worker creation might get DataLoader running slow or even freeze, lower the worker number to avoid potential slowness/freeze if necessary.\n",
            "  cpuset_checked))\n"
          ],
          "name": "stderr"
        },
        {
          "output_type": "display_data",
          "data": {
            "image/png": "[encoded data removed]",
            "text/plain": [
              "<Figure size 432x432 with 1 Axes>"
            ]
          },
          "metadata": {
            "tags": [],
            "needs_background": "light"
          }
        }
      ]
    },
    {
      "cell_type": "code",
      "metadata": {
        "id": "FesqX9-xoj3G"
      },
      "source": [
        "learn.export('models/resnet34_2/export.pkl')"
      ],
      "execution_count": null,
      "outputs": []
    },
    {
      "cell_type": "markdown",
      "metadata": {
        "id": "iXLMZjHCPAK-"
      },
      "source": [
        "# Train VGG16"
      ]
    },
    {
      "cell_type": "code",
      "metadata": {
        "id": "6yvUf70LpDv0",
        "colab": {
          "base_uri": "https://localhost:8080/",
          "height": 137,
          "referenced_widgets": [
            "9e64682b85e546a189fd43e181a1daba",
            "0afea6dd9f314da68e6e2a879a81a4db",
            "ebfc6631b19c44bbbc8147f577a14d14",
            "d8e731bc66f64a8e9e0020917b417007",
            "97bda344249e44029f95df04e6c0c40d",
            "1f24e63278a448d1b4960e00fbd599bf",
            "b99ea95d2fa24b1099bd0ba47e2de547",
            "78cdb3f8802b4fa7b79c18e8cdb7a80f"
          ]
        },
        "outputId": "d710a3a4-e37a-40c3-aaf8-89c859f99f27"
      },
      "source": [
        "learn_vgg = create_cnn(data, models.vgg16_bn, metrics=accuracy)"
      ],
      "execution_count": null,
      "outputs": [
        {
          "output_type": "stream",
          "text": [
            "/usr/local/lib/python3.7/dist-packages/fastai/vision/learner.py:109: UserWarning: `create_cnn` is deprecated and is now named `cnn_learner`.\n",
            "  warn(\"`create_cnn` is deprecated and is now named `cnn_learner`.\")\n",
            "Downloading: \"https://download.pytorch.org/models/vgg16_bn-6c64b313.pth\" to /root/.cache/torch/hub/checkpoints/vgg16_bn-6c64b313.pth\n"
          ],
          "name": "stderr"
        },
        {
          "output_type": "display_data",
          "data": {
            "application/vnd.jupyter.widget-view+json": {
              "model_id": "9e64682b85e546a189fd43e181a1daba",
              "version_minor": 0,
              "version_major": 2
            },
            "text/plain": [
              "HBox(children=(FloatProgress(value=0.0, max=553507836.0), HTML(value='')))"
            ]
          },
          "metadata": {
            "tags": []
          }
        },
        {
          "output_type": "stream",
          "text": [
            "\n"
          ],
          "name": "stdout"
        }
      ]
    },
    {
      "cell_type": "code",
      "metadata": {
        "colab": {
          "base_uri": "https://localhost:8080/",
          "height": 723
        },
        "id": "gggy7XaORuEL",
        "outputId": "8112434e-5cba-4d4e-9431-113eaecb712d"
      },
      "source": [
        "defaults.device = torch.device('cuda')\n",
        "learn_vgg.fit_one_cycle(20)"
      ],
      "execution_count": null,
      "outputs": [
        {
          "output_type": "display_data",
          "data": {
            "text/html": [
              "<table border=\"1\" class=\"dataframe\">\n",
              "  <thead>\n",
              "    <tr style=\"text-align: left;\">\n",
              "      <th>epoch</th>\n",
              "      <th>train_loss</th>\n",
              "      <th>valid_loss</th>\n",
              "      <th>accuracy</th>\n",
              "      <th>time</th>\n",
              "    </tr>\n",
              "  </thead>\n",
              "  <tbody>\n",
              "    <tr>\n",
              "      <td>0</td>\n",
              "      <td>1.700233</td>\n",
              "      <td>1.002228</td>\n",
              "      <td>0.646688</td>\n",
              "      <td>00:29</td>\n",
              "    </tr>\n",
              "    <tr>\n",
              "      <td>1</td>\n",
              "      <td>1.102925</td>\n",
              "      <td>0.835004</td>\n",
              "      <td>0.722397</td>\n",
              "      <td>00:27</td>\n",
              "    </tr>\n",
              "    <tr>\n",
              "      <td>2</td>\n",
              "      <td>0.955871</td>\n",
              "      <td>1.011455</td>\n",
              "      <td>0.687697</td>\n",
              "      <td>00:28</td>\n",
              "    </tr>\n",
              "    <tr>\n",
              "      <td>3</td>\n",
              "      <td>0.747846</td>\n",
              "      <td>0.589552</td>\n",
              "      <td>0.826498</td>\n",
              "      <td>00:28</td>\n",
              "    </tr>\n",
              "    <tr>\n",
              "      <td>4</td>\n",
              "      <td>0.621272</td>\n",
              "      <td>0.873934</td>\n",
              "      <td>0.747634</td>\n",
              "      <td>00:28</td>\n",
              "    </tr>\n",
              "    <tr>\n",
              "      <td>5</td>\n",
              "      <td>0.546766</td>\n",
              "      <td>0.471102</td>\n",
              "      <td>0.848580</td>\n",
              "      <td>00:29</td>\n",
              "    </tr>\n",
              "    <tr>\n",
              "      <td>6</td>\n",
              "      <td>0.443548</td>\n",
              "      <td>0.417601</td>\n",
              "      <td>0.854890</td>\n",
              "      <td>00:28</td>\n",
              "    </tr>\n",
              "    <tr>\n",
              "      <td>7</td>\n",
              "      <td>0.434330</td>\n",
              "      <td>0.620322</td>\n",
              "      <td>0.798107</td>\n",
              "      <td>00:28</td>\n",
              "    </tr>\n",
              "    <tr>\n",
              "      <td>8</td>\n",
              "      <td>0.415677</td>\n",
              "      <td>0.295844</td>\n",
              "      <td>0.886435</td>\n",
              "      <td>00:28</td>\n",
              "    </tr>\n",
              "    <tr>\n",
              "      <td>9</td>\n",
              "      <td>0.409313</td>\n",
              "      <td>0.210482</td>\n",
              "      <td>0.917981</td>\n",
              "      <td>00:28</td>\n",
              "    </tr>\n",
              "    <tr>\n",
              "      <td>10</td>\n",
              "      <td>0.286613</td>\n",
              "      <td>0.474046</td>\n",
              "      <td>0.817035</td>\n",
              "      <td>00:28</td>\n",
              "    </tr>\n",
              "    <tr>\n",
              "      <td>11</td>\n",
              "      <td>0.268857</td>\n",
              "      <td>0.369482</td>\n",
              "      <td>0.845426</td>\n",
              "      <td>00:28</td>\n",
              "    </tr>\n",
              "    <tr>\n",
              "      <td>12</td>\n",
              "      <td>0.255007</td>\n",
              "      <td>0.300262</td>\n",
              "      <td>0.886435</td>\n",
              "      <td>00:28</td>\n",
              "    </tr>\n",
              "    <tr>\n",
              "      <td>13</td>\n",
              "      <td>0.232732</td>\n",
              "      <td>0.430201</td>\n",
              "      <td>0.842271</td>\n",
              "      <td>00:28</td>\n",
              "    </tr>\n",
              "    <tr>\n",
              "      <td>14</td>\n",
              "      <td>0.171471</td>\n",
              "      <td>0.411588</td>\n",
              "      <td>0.842271</td>\n",
              "      <td>00:29</td>\n",
              "    </tr>\n",
              "    <tr>\n",
              "      <td>15</td>\n",
              "      <td>0.200318</td>\n",
              "      <td>0.363105</td>\n",
              "      <td>0.864353</td>\n",
              "      <td>00:28</td>\n",
              "    </tr>\n",
              "    <tr>\n",
              "      <td>16</td>\n",
              "      <td>0.153425</td>\n",
              "      <td>0.291921</td>\n",
              "      <td>0.873817</td>\n",
              "      <td>00:29</td>\n",
              "    </tr>\n",
              "    <tr>\n",
              "      <td>17</td>\n",
              "      <td>0.158840</td>\n",
              "      <td>0.389378</td>\n",
              "      <td>0.876972</td>\n",
              "      <td>00:29</td>\n",
              "    </tr>\n",
              "    <tr>\n",
              "      <td>18</td>\n",
              "      <td>0.178484</td>\n",
              "      <td>0.361723</td>\n",
              "      <td>0.880126</td>\n",
              "      <td>00:28</td>\n",
              "    </tr>\n",
              "    <tr>\n",
              "      <td>19</td>\n",
              "      <td>0.156646</td>\n",
              "      <td>0.329567</td>\n",
              "      <td>0.895899</td>\n",
              "      <td>00:29</td>\n",
              "    </tr>\n",
              "  </tbody>\n",
              "</table>"
            ],
            "text/plain": [
              "<IPython.core.display.HTML object>"
            ]
          },
          "metadata": {
            "tags": []
          }
        },
        {
          "output_type": "stream",
          "text": [
            "/usr/local/lib/python3.7/dist-packages/torch/utils/data/dataloader.py:477: UserWarning: This DataLoader will create 4 worker processes in total. Our suggested max number of worker in current system is 2, which is smaller than what this DataLoader is going to create. Please be aware that excessive worker creation might get DataLoader running slow or even freeze, lower the worker number to avoid potential slowness/freeze if necessary.\n",
            "  cpuset_checked))\n"
          ],
          "name": "stderr"
        }
      ]
    },
    {
      "cell_type": "code",
      "metadata": {
        "colab": {
          "base_uri": "https://localhost:8080/",
          "height": 428
        },
        "id": "CFqgqIulRyWy",
        "outputId": "31a683b7-10e0-4394-ad99-9f71ff320789"
      },
      "source": [
        "learn_vgg.unfreeze()\n",
        "learn_vgg.lr_find()\n",
        "learn_vgg.recorder.plot()"
      ],
      "execution_count": null,
      "outputs": [
        {
          "output_type": "display_data",
          "data": {
            "text/html": [
              "\n",
              "    <div>\n",
              "        <style>\n",
              "            /* Turns off some styling */\n",
              "            progress {\n",
              "                /* gets rid of default border in Firefox and Opera. */\n",
              "                border: none;\n",
              "                /* Needs to be in here for Safari polyfill so background images work as expected. */\n",
              "                background-size: auto;\n",
              "            }\n",
              "            .progress-bar-interrupted, .progress-bar-interrupted::-webkit-progress-bar {\n",
              "                background: #F44336;\n",
              "            }\n",
              "        </style>\n",
              "      <progress value='0' class='' max='1' style='width:300px; height:20px; vertical-align: middle;'></progress>\n",
              "      0.00% [0/1 00:00<00:00]\n",
              "    </div>\n",
              "    \n",
              "<table border=\"1\" class=\"dataframe\">\n",
              "  <thead>\n",
              "    <tr style=\"text-align: left;\">\n",
              "      <th>epoch</th>\n",
              "      <th>train_loss</th>\n",
              "      <th>valid_loss</th>\n",
              "      <th>accuracy</th>\n",
              "      <th>time</th>\n",
              "    </tr>\n",
              "  </thead>\n",
              "  <tbody>\n",
              "  </tbody>\n",
              "</table><p>\n",
              "\n",
              "    <div>\n",
              "        <style>\n",
              "            /* Turns off some styling */\n",
              "            progress {\n",
              "                /* gets rid of default border in Firefox and Opera. */\n",
              "                border: none;\n",
              "                /* Needs to be in here for Safari polyfill so background images work as expected. */\n",
              "                background-size: auto;\n",
              "            }\n",
              "            .progress-bar-interrupted, .progress-bar-interrupted::-webkit-progress-bar {\n",
              "                background: #F44336;\n",
              "            }\n",
              "        </style>\n",
              "      <progress value='52' class='' max='192' style='width:300px; height:20px; vertical-align: middle;'></progress>\n",
              "      27.08% [52/192 00:09<00:26 0.3599]\n",
              "    </div>\n",
              "    "
            ],
            "text/plain": [
              "<IPython.core.display.HTML object>"
            ]
          },
          "metadata": {
            "tags": []
          }
        },
        {
          "output_type": "stream",
          "text": [
            "/usr/local/lib/python3.7/dist-packages/torch/utils/data/dataloader.py:477: UserWarning: This DataLoader will create 4 worker processes in total. Our suggested max number of worker in current system is 2, which is smaller than what this DataLoader is going to create. Please be aware that excessive worker creation might get DataLoader running slow or even freeze, lower the worker number to avoid potential slowness/freeze if necessary.\n",
            "  cpuset_checked))\n"
          ],
          "name": "stderr"
        },
        {
          "output_type": "stream",
          "text": [
            "LR Finder is complete, type {learner_name}.recorder.plot() to see the graph.\n"
          ],
          "name": "stdout"
        },
        {
          "output_type": "display_data",
          "data": {
            "image/png": "[encoded data removed]",
            "text/plain": [
              "<Figure size 432x288 with 1 Axes>"
            ]
          },
          "metadata": {
            "tags": [],
            "needs_background": "light"
          }
        }
      ]
    },
    {
      "cell_type": "code",
      "metadata": {
        "colab": {
          "base_uri": "https://localhost:8080/",
          "height": 808
        },
        "id": "oXTtsvxVR6ZN",
        "outputId": "36faf0d6-57f4-4133-df02-a5a83092589a"
      },
      "source": [
        "learn_vgg.fit_one_cycle(20, max_lr=slice(1e-05, 1e-04), callbacks=[SaveModelCallback(learn_vgg)])"
      ],
      "execution_count": null,
      "outputs": [
        {
          "output_type": "display_data",
          "data": {
            "text/html": [
              "<table border=\"1\" class=\"dataframe\">\n",
              "  <thead>\n",
              "    <tr style=\"text-align: left;\">\n",
              "      <th>epoch</th>\n",
              "      <th>train_loss</th>\n",
              "      <th>valid_loss</th>\n",
              "      <th>accuracy</th>\n",
              "      <th>time</th>\n",
              "    </tr>\n",
              "  </thead>\n",
              "  <tbody>\n",
              "    <tr>\n",
              "      <td>0</td>\n",
              "      <td>0.146260</td>\n",
              "      <td>0.384178</td>\n",
              "      <td>0.870662</td>\n",
              "      <td>00:36</td>\n",
              "    </tr>\n",
              "    <tr>\n",
              "      <td>1</td>\n",
              "      <td>0.117265</td>\n",
              "      <td>0.290654</td>\n",
              "      <td>0.892744</td>\n",
              "      <td>00:37</td>\n",
              "    </tr>\n",
              "    <tr>\n",
              "      <td>2</td>\n",
              "      <td>0.140164</td>\n",
              "      <td>0.574326</td>\n",
              "      <td>0.883281</td>\n",
              "      <td>00:38</td>\n",
              "    </tr>\n",
              "    <tr>\n",
              "      <td>3</td>\n",
              "      <td>0.134177</td>\n",
              "      <td>0.403008</td>\n",
              "      <td>0.880126</td>\n",
              "      <td>00:38</td>\n",
              "    </tr>\n",
              "    <tr>\n",
              "      <td>4</td>\n",
              "      <td>0.176481</td>\n",
              "      <td>0.456189</td>\n",
              "      <td>0.870662</td>\n",
              "      <td>00:38</td>\n",
              "    </tr>\n",
              "    <tr>\n",
              "      <td>5</td>\n",
              "      <td>0.175232</td>\n",
              "      <td>0.278303</td>\n",
              "      <td>0.914827</td>\n",
              "      <td>00:38</td>\n",
              "    </tr>\n",
              "    <tr>\n",
              "      <td>6</td>\n",
              "      <td>0.135707</td>\n",
              "      <td>0.442293</td>\n",
              "      <td>0.870662</td>\n",
              "      <td>00:38</td>\n",
              "    </tr>\n",
              "    <tr>\n",
              "      <td>7</td>\n",
              "      <td>0.142292</td>\n",
              "      <td>0.821560</td>\n",
              "      <td>0.835962</td>\n",
              "      <td>00:38</td>\n",
              "    </tr>\n",
              "    <tr>\n",
              "      <td>8</td>\n",
              "      <td>0.118696</td>\n",
              "      <td>0.808806</td>\n",
              "      <td>0.870662</td>\n",
              "      <td>00:38</td>\n",
              "    </tr>\n",
              "    <tr>\n",
              "      <td>9</td>\n",
              "      <td>0.091400</td>\n",
              "      <td>0.367559</td>\n",
              "      <td>0.914827</td>\n",
              "      <td>00:38</td>\n",
              "    </tr>\n",
              "    <tr>\n",
              "      <td>10</td>\n",
              "      <td>0.076351</td>\n",
              "      <td>0.309308</td>\n",
              "      <td>0.933754</td>\n",
              "      <td>00:38</td>\n",
              "    </tr>\n",
              "    <tr>\n",
              "      <td>11</td>\n",
              "      <td>0.084966</td>\n",
              "      <td>0.253690</td>\n",
              "      <td>0.940063</td>\n",
              "      <td>00:38</td>\n",
              "    </tr>\n",
              "    <tr>\n",
              "      <td>12</td>\n",
              "      <td>0.078316</td>\n",
              "      <td>0.364449</td>\n",
              "      <td>0.921136</td>\n",
              "      <td>00:38</td>\n",
              "    </tr>\n",
              "    <tr>\n",
              "      <td>13</td>\n",
              "      <td>0.064343</td>\n",
              "      <td>0.260033</td>\n",
              "      <td>0.946372</td>\n",
              "      <td>00:38</td>\n",
              "    </tr>\n",
              "    <tr>\n",
              "      <td>14</td>\n",
              "      <td>0.119329</td>\n",
              "      <td>0.211138</td>\n",
              "      <td>0.930599</td>\n",
              "      <td>00:38</td>\n",
              "    </tr>\n",
              "    <tr>\n",
              "      <td>15</td>\n",
              "      <td>0.057670</td>\n",
              "      <td>0.269585</td>\n",
              "      <td>0.927445</td>\n",
              "      <td>00:38</td>\n",
              "    </tr>\n",
              "    <tr>\n",
              "      <td>16</td>\n",
              "      <td>0.088905</td>\n",
              "      <td>0.281047</td>\n",
              "      <td>0.930599</td>\n",
              "      <td>00:38</td>\n",
              "    </tr>\n",
              "    <tr>\n",
              "      <td>17</td>\n",
              "      <td>0.039577</td>\n",
              "      <td>0.294867</td>\n",
              "      <td>0.927445</td>\n",
              "      <td>00:38</td>\n",
              "    </tr>\n",
              "    <tr>\n",
              "      <td>18</td>\n",
              "      <td>0.056924</td>\n",
              "      <td>0.273260</td>\n",
              "      <td>0.921136</td>\n",
              "      <td>00:38</td>\n",
              "    </tr>\n",
              "    <tr>\n",
              "      <td>19</td>\n",
              "      <td>0.055558</td>\n",
              "      <td>0.298724</td>\n",
              "      <td>0.911672</td>\n",
              "      <td>00:38</td>\n",
              "    </tr>\n",
              "  </tbody>\n",
              "</table>"
            ],
            "text/plain": [
              "<IPython.core.display.HTML object>"
            ]
          },
          "metadata": {
            "tags": []
          }
        },
        {
          "output_type": "stream",
          "text": [
            "/usr/local/lib/python3.7/dist-packages/torch/utils/data/dataloader.py:477: UserWarning: This DataLoader will create 4 worker processes in total. Our suggested max number of worker in current system is 2, which is smaller than what this DataLoader is going to create. Please be aware that excessive worker creation might get DataLoader running slow or even freeze, lower the worker number to avoid potential slowness/freeze if necessary.\n",
            "  cpuset_checked))\n"
          ],
          "name": "stderr"
        },
        {
          "output_type": "stream",
          "text": [
            "Better model found at epoch 0 with valid_loss value: 0.3841783404350281.\n",
            "Better model found at epoch 1 with valid_loss value: 0.29065388441085815.\n",
            "Better model found at epoch 5 with valid_loss value: 0.278303325176239.\n",
            "Better model found at epoch 11 with valid_loss value: 0.25368958711624146.\n",
            "Better model found at epoch 14 with valid_loss value: 0.21113798022270203.\n"
          ],
          "name": "stdout"
        }
      ]
    },
    {
      "cell_type": "code",
      "metadata": {
        "colab": {
          "base_uri": "https://localhost:8080/",
          "height": 509
        },
        "id": "h-f7_jQ4R7Jq",
        "outputId": "06342a91-10af-42e7-f1a1-b71da3be3ce5"
      },
      "source": [
        "interp = ClassificationInterpretation.from_learner(learn_vgg)\n",
        "interp.plot_confusion_matrix(figsize=(6,6))"
      ],
      "execution_count": null,
      "outputs": [
        {
          "output_type": "display_data",
          "data": {
            "text/html": [
              ""
            ],
            "text/plain": [
              "<IPython.core.display.HTML object>"
            ]
          },
          "metadata": {
            "tags": []
          }
        },
        {
          "output_type": "stream",
          "text": [
            "/usr/local/lib/python3.7/dist-packages/torch/utils/data/dataloader.py:477: UserWarning: This DataLoader will create 4 worker processes in total. Our suggested max number of worker in current system is 2, which is smaller than what this DataLoader is going to create. Please be aware that excessive worker creation might get DataLoader running slow or even freeze, lower the worker number to avoid potential slowness/freeze if necessary.\n",
            "  cpuset_checked))\n"
          ],
          "name": "stderr"
        },
        {
          "output_type": "display_data",
          "data": {
            "image/png": "[encoded data removed]",
            "text/plain": [
              "<Figure size 432x432 with 1 Axes>"
            ]
          },
          "metadata": {
            "tags": [],
            "needs_background": "light"
          }
        }
      ]
    },
    {
      "cell_type": "code",
      "metadata": {
        "id": "wgUDzp9BR9xb"
      },
      "source": [
        "learn_vgg.export('models/vgg16_2/export.pkl')"
      ],
      "execution_count": null,
      "outputs": []
    },
    {
      "cell_type": "markdown",
      "metadata": {
        "id": "G0_288xF7yBM"
      },
      "source": [
        "# Train inceptionv3"
      ]
    },
    {
      "cell_type": "code",
      "metadata": {
        "colab": {
          "base_uri": "https://localhost:8080/"
        },
        "id": "Q1CA-Mh8A1qs",
        "outputId": "2ff9b543-d954-4263-c75b-5532e1907daa"
      },
      "source": [
        "np.random.seed(42)\n",
        "path = \"training_csvs/\"\n",
        "data_iv3 = ImageDataBunch.from_folder(path, train='train', valid='test', ds_tfms=get_transforms(), size=299, num_workers=4, bs=10).normalize(imagenet_stats)"
      ],
      "execution_count": null,
      "outputs": [
        {
          "output_type": "stream",
          "text": [
            "/usr/local/lib/python3.7/dist-packages/torch/utils/data/dataloader.py:477: UserWarning: This DataLoader will create 4 worker processes in total. Our suggested max number of worker in current system is 2, which is smaller than what this DataLoader is going to create. Please be aware that excessive worker creation might get DataLoader running slow or even freeze, lower the worker number to avoid potential slowness/freeze if necessary.\n",
            "  cpuset_checked))\n"
          ],
          "name": "stderr"
        }
      ]
    },
    {
      "cell_type": "code",
      "metadata": {
        "colab": {
          "base_uri": "https://localhost:8080/"
        },
        "id": "HIowqDw-BkuG",
        "outputId": "fcb21b17-e17b-4fc2-debc-e0e1c6791163"
      },
      "source": [
        "data_iv3"
      ],
      "execution_count": null,
      "outputs": [
        {
          "output_type": "execute_result",
          "data": {
            "text/plain": [
              "ImageDataBunch;\n",
              "\n",
              "Train: LabelList (1923 items)\n",
              "x: ImageList\n",
              "Image (3, 299, 299),Image (3, 299, 299),Image (3, 299, 299),Image (3, 299, 299),Image (3, 299, 299)\n",
              "y: CategoryList\n",
              "short,short,short,short,short\n",
              "Path: training_csvs;\n",
              "\n",
              "Valid: LabelList (317 items)\n",
              "x: ImageList\n",
              "Image (3, 299, 299),Image (3, 299, 299),Image (3, 299, 299),Image (3, 299, 299),Image (3, 299, 299)\n",
              "y: CategoryList\n",
              "short,short,short,short,short\n",
              "Path: training_csvs;\n",
              "\n",
              "Test: None"
            ]
          },
          "metadata": {
            "tags": []
          },
          "execution_count": 26
        }
      ]
    },
    {
      "cell_type": "code",
      "metadata": {
        "id": "vR5uEm3TZ5Dl"
      },
      "source": [
        "import torchvision.models as torch_models # had to import here as it was not readily available with fastai"
      ],
      "execution_count": null,
      "outputs": []
    },
    {
      "cell_type": "code",
      "metadata": {
        "id": "6KMVntAdD49w"
      },
      "source": [
        "def my_loss(preds,target):\n",
        "  if isinstance(preds, tuple):\n",
        "    loss = sum((F.cross_entropy(o,target) for o in preds))\n",
        "  else:\n",
        "    loss = F.cross_entropy(preds,target)\n",
        "  return loss"
      ],
      "execution_count": null,
      "outputs": []
    },
    {
      "cell_type": "code",
      "metadata": {
        "id": "Ty37Nh2y-aPO",
        "colab": {
          "base_uri": "https://localhost:8080/",
          "height": 103,
          "referenced_widgets": [
            "0b67801787754e2a920281e984bc8411",
            "fa0d7018bccb4bda97b1c0338f5f855f",
            "f2447c7af1fc45cab6263d66b60efbf8",
            "79a4ed3e1c90479d9ee202af47dfc765",
            "532d11213d824363994e531e4e343e3b",
            "efdfeb74b129491f93d24e18140c070d",
            "3b996c28882646728cca927eb90dc9a0",
            "2f94117d873e488387ad77fb29d2296f"
          ]
        },
        "outputId": "50c371d0-8023-4309-c8dd-c0d2ae237272"
      },
      "source": [
        "inceptionModel = torchvision.models.inception_v3(pretrained=True) #loading pretrained model\n",
        "for param in inceptionModel.parameters(): #freezing layers\n",
        "  param.requires_grad = False\n",
        "num_ftrs = inceptionModel.AuxLogits.fc.in_features\n",
        "inceptionModel.AuxLogits.fc = nn.Linear(num_ftrs, len(data_iv3.classes)) #inserting the linear layer at the end\n",
        "\n",
        "num_ftrs = inceptionModel.fc.in_features\n",
        "inceptionModel.fc = nn.Linear(num_ftrs, len(data_iv3.classes))\n",
        "inceptionModel = inceptionModel.cuda()\n",
        "learn_iv3 = Learner(data_iv3, inceptionModel, loss_func=my_loss, metrics=accuracy)"
      ],
      "execution_count": null,
      "outputs": [
        {
          "output_type": "stream",
          "text": [
            "Downloading: \"https://download.pytorch.org/models/inception_v3_google-1a9a5a14.pth\" to /root/.cache/torch/hub/checkpoints/inception_v3_google-1a9a5a14.pth\n"
          ],
          "name": "stderr"
        },
        {
          "output_type": "display_data",
          "data": {
            "application/vnd.jupyter.widget-view+json": {
              "model_id": "0b67801787754e2a920281e984bc8411",
              "version_minor": 0,
              "version_major": 2
            },
            "text/plain": [
              "HBox(children=(FloatProgress(value=0.0, max=108857766.0), HTML(value='')))"
            ]
          },
          "metadata": {
            "tags": []
          }
        },
        {
          "output_type": "stream",
          "text": [
            "\n"
          ],
          "name": "stdout"
        }
      ]
    },
    {
      "cell_type": "code",
      "metadata": {
        "colab": {
          "base_uri": "https://localhost:8080/",
          "height": 723
        },
        "id": "WL52qkHs9EDG",
        "outputId": "f5a912d4-f396-4b8f-d1aa-9cec595fad30"
      },
      "source": [
        "defaults.device = torch.device('cuda')\n",
        "learn_iv3.fit_one_cycle(20)"
      ],
      "execution_count": null,
      "outputs": [
        {
          "output_type": "display_data",
          "data": {
            "text/html": [
              "<table border=\"1\" class=\"dataframe\">\n",
              "  <thead>\n",
              "    <tr style=\"text-align: left;\">\n",
              "      <th>epoch</th>\n",
              "      <th>train_loss</th>\n",
              "      <th>valid_loss</th>\n",
              "      <th>accuracy</th>\n",
              "      <th>time</th>\n",
              "    </tr>\n",
              "  </thead>\n",
              "  <tbody>\n",
              "    <tr>\n",
              "      <td>0</td>\n",
              "      <td>2.930599</td>\n",
              "      <td>1.793279</td>\n",
              "      <td>0.195584</td>\n",
              "      <td>00:28</td>\n",
              "    </tr>\n",
              "    <tr>\n",
              "      <td>1</td>\n",
              "      <td>2.154891</td>\n",
              "      <td>1.241783</td>\n",
              "      <td>0.577287</td>\n",
              "      <td>00:27</td>\n",
              "    </tr>\n",
              "    <tr>\n",
              "      <td>2</td>\n",
              "      <td>1.749249</td>\n",
              "      <td>1.044247</td>\n",
              "      <td>0.618297</td>\n",
              "      <td>00:27</td>\n",
              "    </tr>\n",
              "    <tr>\n",
              "      <td>3</td>\n",
              "      <td>1.467716</td>\n",
              "      <td>0.854374</td>\n",
              "      <td>0.659306</td>\n",
              "      <td>00:27</td>\n",
              "    </tr>\n",
              "    <tr>\n",
              "      <td>4</td>\n",
              "      <td>1.502418</td>\n",
              "      <td>0.794074</td>\n",
              "      <td>0.690852</td>\n",
              "      <td>00:27</td>\n",
              "    </tr>\n",
              "    <tr>\n",
              "      <td>5</td>\n",
              "      <td>1.680565</td>\n",
              "      <td>1.058083</td>\n",
              "      <td>0.643533</td>\n",
              "      <td>00:28</td>\n",
              "    </tr>\n",
              "    <tr>\n",
              "      <td>6</td>\n",
              "      <td>1.376062</td>\n",
              "      <td>0.845499</td>\n",
              "      <td>0.694006</td>\n",
              "      <td>00:27</td>\n",
              "    </tr>\n",
              "    <tr>\n",
              "      <td>7</td>\n",
              "      <td>1.415335</td>\n",
              "      <td>0.856962</td>\n",
              "      <td>0.697161</td>\n",
              "      <td>00:27</td>\n",
              "    </tr>\n",
              "    <tr>\n",
              "      <td>8</td>\n",
              "      <td>1.371035</td>\n",
              "      <td>1.010238</td>\n",
              "      <td>0.646688</td>\n",
              "      <td>00:27</td>\n",
              "    </tr>\n",
              "    <tr>\n",
              "      <td>9</td>\n",
              "      <td>1.351945</td>\n",
              "      <td>0.950362</td>\n",
              "      <td>0.678233</td>\n",
              "      <td>00:28</td>\n",
              "    </tr>\n",
              "    <tr>\n",
              "      <td>10</td>\n",
              "      <td>1.219816</td>\n",
              "      <td>0.916118</td>\n",
              "      <td>0.678233</td>\n",
              "      <td>00:27</td>\n",
              "    </tr>\n",
              "    <tr>\n",
              "      <td>11</td>\n",
              "      <td>1.232773</td>\n",
              "      <td>0.674399</td>\n",
              "      <td>0.744479</td>\n",
              "      <td>00:27</td>\n",
              "    </tr>\n",
              "    <tr>\n",
              "      <td>12</td>\n",
              "      <td>1.175314</td>\n",
              "      <td>0.671627</td>\n",
              "      <td>0.744479</td>\n",
              "      <td>00:28</td>\n",
              "    </tr>\n",
              "    <tr>\n",
              "      <td>13</td>\n",
              "      <td>1.143285</td>\n",
              "      <td>0.630851</td>\n",
              "      <td>0.763407</td>\n",
              "      <td>00:29</td>\n",
              "    </tr>\n",
              "    <tr>\n",
              "      <td>14</td>\n",
              "      <td>1.140488</td>\n",
              "      <td>0.718832</td>\n",
              "      <td>0.716088</td>\n",
              "      <td>00:29</td>\n",
              "    </tr>\n",
              "    <tr>\n",
              "      <td>15</td>\n",
              "      <td>1.084522</td>\n",
              "      <td>0.674805</td>\n",
              "      <td>0.735016</td>\n",
              "      <td>00:29</td>\n",
              "    </tr>\n",
              "    <tr>\n",
              "      <td>16</td>\n",
              "      <td>1.180750</td>\n",
              "      <td>0.638204</td>\n",
              "      <td>0.750789</td>\n",
              "      <td>00:28</td>\n",
              "    </tr>\n",
              "    <tr>\n",
              "      <td>17</td>\n",
              "      <td>1.119777</td>\n",
              "      <td>0.659552</td>\n",
              "      <td>0.735016</td>\n",
              "      <td>00:28</td>\n",
              "    </tr>\n",
              "    <tr>\n",
              "      <td>18</td>\n",
              "      <td>1.045744</td>\n",
              "      <td>0.624454</td>\n",
              "      <td>0.757098</td>\n",
              "      <td>00:28</td>\n",
              "    </tr>\n",
              "    <tr>\n",
              "      <td>19</td>\n",
              "      <td>1.048177</td>\n",
              "      <td>0.663026</td>\n",
              "      <td>0.741325</td>\n",
              "      <td>00:28</td>\n",
              "    </tr>\n",
              "  </tbody>\n",
              "</table>"
            ],
            "text/plain": [
              "<IPython.core.display.HTML object>"
            ]
          },
          "metadata": {
            "tags": []
          }
        },
        {
          "output_type": "stream",
          "text": [
            "/usr/local/lib/python3.7/dist-packages/torch/utils/data/dataloader.py:477: UserWarning: This DataLoader will create 4 worker processes in total. Our suggested max number of worker in current system is 2, which is smaller than what this DataLoader is going to create. Please be aware that excessive worker creation might get DataLoader running slow or even freeze, lower the worker number to avoid potential slowness/freeze if necessary.\n",
            "  cpuset_checked))\n"
          ],
          "name": "stderr"
        }
      ]
    },
    {
      "cell_type": "code",
      "metadata": {
        "colab": {
          "base_uri": "https://localhost:8080/",
          "height": 413
        },
        "id": "aOlJvRxb5_E5",
        "outputId": "c2550dcb-f8ad-4ec6-e925-8063a952cca5"
      },
      "source": [
        "learn_iv3.fit_one_cycle(10)"
      ],
      "execution_count": null,
      "outputs": [
        {
          "output_type": "display_data",
          "data": {
            "text/html": [
              "<table border=\"1\" class=\"dataframe\">\n",
              "  <thead>\n",
              "    <tr style=\"text-align: left;\">\n",
              "      <th>epoch</th>\n",
              "      <th>train_loss</th>\n",
              "      <th>valid_loss</th>\n",
              "      <th>accuracy</th>\n",
              "      <th>time</th>\n",
              "    </tr>\n",
              "  </thead>\n",
              "  <tbody>\n",
              "    <tr>\n",
              "      <td>0</td>\n",
              "      <td>1.029067</td>\n",
              "      <td>0.642188</td>\n",
              "      <td>0.760252</td>\n",
              "      <td>00:27</td>\n",
              "    </tr>\n",
              "    <tr>\n",
              "      <td>1</td>\n",
              "      <td>1.254106</td>\n",
              "      <td>0.806700</td>\n",
              "      <td>0.706625</td>\n",
              "      <td>00:28</td>\n",
              "    </tr>\n",
              "    <tr>\n",
              "      <td>2</td>\n",
              "      <td>1.236373</td>\n",
              "      <td>1.082232</td>\n",
              "      <td>0.662461</td>\n",
              "      <td>00:28</td>\n",
              "    </tr>\n",
              "    <tr>\n",
              "      <td>3</td>\n",
              "      <td>1.390660</td>\n",
              "      <td>0.770480</td>\n",
              "      <td>0.741325</td>\n",
              "      <td>00:28</td>\n",
              "    </tr>\n",
              "    <tr>\n",
              "      <td>4</td>\n",
              "      <td>1.518722</td>\n",
              "      <td>0.689713</td>\n",
              "      <td>0.735016</td>\n",
              "      <td>00:28</td>\n",
              "    </tr>\n",
              "    <tr>\n",
              "      <td>5</td>\n",
              "      <td>1.257318</td>\n",
              "      <td>0.690400</td>\n",
              "      <td>0.760252</td>\n",
              "      <td>00:28</td>\n",
              "    </tr>\n",
              "    <tr>\n",
              "      <td>6</td>\n",
              "      <td>1.183217</td>\n",
              "      <td>0.678204</td>\n",
              "      <td>0.760252</td>\n",
              "      <td>00:28</td>\n",
              "    </tr>\n",
              "    <tr>\n",
              "      <td>7</td>\n",
              "      <td>1.126090</td>\n",
              "      <td>0.641953</td>\n",
              "      <td>0.757098</td>\n",
              "      <td>00:28</td>\n",
              "    </tr>\n",
              "    <tr>\n",
              "      <td>8</td>\n",
              "      <td>1.160871</td>\n",
              "      <td>0.658639</td>\n",
              "      <td>0.750789</td>\n",
              "      <td>00:28</td>\n",
              "    </tr>\n",
              "    <tr>\n",
              "      <td>9</td>\n",
              "      <td>1.053546</td>\n",
              "      <td>0.682334</td>\n",
              "      <td>0.735016</td>\n",
              "      <td>00:28</td>\n",
              "    </tr>\n",
              "  </tbody>\n",
              "</table>"
            ],
            "text/plain": [
              "<IPython.core.display.HTML object>"
            ]
          },
          "metadata": {
            "tags": []
          }
        },
        {
          "output_type": "stream",
          "text": [
            "/usr/local/lib/python3.7/dist-packages/torch/utils/data/dataloader.py:477: UserWarning: This DataLoader will create 4 worker processes in total. Our suggested max number of worker in current system is 2, which is smaller than what this DataLoader is going to create. Please be aware that excessive worker creation might get DataLoader running slow or even freeze, lower the worker number to avoid potential slowness/freeze if necessary.\n",
            "  cpuset_checked))\n"
          ],
          "name": "stderr"
        }
      ]
    },
    {
      "cell_type": "code",
      "metadata": {
        "colab": {
          "base_uri": "https://localhost:8080/",
          "height": 428
        },
        "id": "ObF11TFREU50",
        "outputId": "e372aeea-a43a-4a79-d200-00c73b264aa3"
      },
      "source": [
        "learn_iv3.unfreeze()\n",
        "learn_iv3.lr_find()\n",
        "learn_iv3.recorder.plot()"
      ],
      "execution_count": null,
      "outputs": [
        {
          "output_type": "display_data",
          "data": {
            "text/html": [
              "\n",
              "    <div>\n",
              "        <style>\n",
              "            /* Turns off some styling */\n",
              "            progress {\n",
              "                /* gets rid of default border in Firefox and Opera. */\n",
              "                border: none;\n",
              "                /* Needs to be in here for Safari polyfill so background images work as expected. */\n",
              "                background-size: auto;\n",
              "            }\n",
              "            .progress-bar-interrupted, .progress-bar-interrupted::-webkit-progress-bar {\n",
              "                background: #F44336;\n",
              "            }\n",
              "        </style>\n",
              "      <progress value='0' class='' max='1' style='width:300px; height:20px; vertical-align: middle;'></progress>\n",
              "      0.00% [0/1 00:00<00:00]\n",
              "    </div>\n",
              "    \n",
              "<table border=\"1\" class=\"dataframe\">\n",
              "  <thead>\n",
              "    <tr style=\"text-align: left;\">\n",
              "      <th>epoch</th>\n",
              "      <th>train_loss</th>\n",
              "      <th>valid_loss</th>\n",
              "      <th>accuracy</th>\n",
              "      <th>time</th>\n",
              "    </tr>\n",
              "  </thead>\n",
              "  <tbody>\n",
              "  </tbody>\n",
              "</table><p>\n",
              "\n",
              "    <div>\n",
              "        <style>\n",
              "            /* Turns off some styling */\n",
              "            progress {\n",
              "                /* gets rid of default border in Firefox and Opera. */\n",
              "                border: none;\n",
              "                /* Needs to be in here for Safari polyfill so background images work as expected. */\n",
              "                background-size: auto;\n",
              "            }\n",
              "            .progress-bar-interrupted, .progress-bar-interrupted::-webkit-progress-bar {\n",
              "                background: #F44336;\n",
              "            }\n",
              "        </style>\n",
              "      <progress value='72' class='' max='192' style='width:300px; height:20px; vertical-align: middle;'></progress>\n",
              "      37.50% [72/192 00:15<00:25 4.1760]\n",
              "    </div>\n",
              "    "
            ],
            "text/plain": [
              "<IPython.core.display.HTML object>"
            ]
          },
          "metadata": {
            "tags": []
          }
        },
        {
          "output_type": "stream",
          "text": [
            "/usr/local/lib/python3.7/dist-packages/torch/utils/data/dataloader.py:477: UserWarning: This DataLoader will create 4 worker processes in total. Our suggested max number of worker in current system is 2, which is smaller than what this DataLoader is going to create. Please be aware that excessive worker creation might get DataLoader running slow or even freeze, lower the worker number to avoid potential slowness/freeze if necessary.\n",
            "  cpuset_checked))\n"
          ],
          "name": "stderr"
        },
        {
          "output_type": "stream",
          "text": [
            "LR Finder is complete, type {learner_name}.recorder.plot() to see the graph.\n"
          ],
          "name": "stdout"
        },
        {
          "output_type": "display_data",
          "data": {
            "image/png": "[encoded data removed]",
            "text/plain": [
              "<Figure size 432x288 with 1 Axes>"
            ]
          },
          "metadata": {
            "tags": [],
            "needs_background": "light"
          }
        }
      ]
    },
    {
      "cell_type": "code",
      "metadata": {
        "colab": {
          "base_uri": "https://localhost:8080/",
          "height": 808
        },
        "id": "Tb9l1ovW9M36",
        "outputId": "92e8c718-2029-4cee-93e8-739cfde31460"
      },
      "source": [
        "learn_iv3.fit_one_cycle(20, max_lr=1e-4, callbacks=[SaveModelCallback(learn_iv3)])"
      ],
      "execution_count": null,
      "outputs": [
        {
          "output_type": "display_data",
          "data": {
            "text/html": [
              "<table border=\"1\" class=\"dataframe\">\n",
              "  <thead>\n",
              "    <tr style=\"text-align: left;\">\n",
              "      <th>epoch</th>\n",
              "      <th>train_loss</th>\n",
              "      <th>valid_loss</th>\n",
              "      <th>accuracy</th>\n",
              "      <th>time</th>\n",
              "    </tr>\n",
              "  </thead>\n",
              "  <tbody>\n",
              "    <tr>\n",
              "      <td>0</td>\n",
              "      <td>0.947052</td>\n",
              "      <td>0.524697</td>\n",
              "      <td>0.813880</td>\n",
              "      <td>00:38</td>\n",
              "    </tr>\n",
              "    <tr>\n",
              "      <td>1</td>\n",
              "      <td>0.645567</td>\n",
              "      <td>0.362658</td>\n",
              "      <td>0.886435</td>\n",
              "      <td>00:39</td>\n",
              "    </tr>\n",
              "    <tr>\n",
              "      <td>2</td>\n",
              "      <td>0.490574</td>\n",
              "      <td>0.217347</td>\n",
              "      <td>0.921136</td>\n",
              "      <td>00:39</td>\n",
              "    </tr>\n",
              "    <tr>\n",
              "      <td>3</td>\n",
              "      <td>0.637581</td>\n",
              "      <td>0.283602</td>\n",
              "      <td>0.914827</td>\n",
              "      <td>00:39</td>\n",
              "    </tr>\n",
              "    <tr>\n",
              "      <td>4</td>\n",
              "      <td>0.451834</td>\n",
              "      <td>0.271135</td>\n",
              "      <td>0.927445</td>\n",
              "      <td>00:38</td>\n",
              "    </tr>\n",
              "    <tr>\n",
              "      <td>5</td>\n",
              "      <td>0.546690</td>\n",
              "      <td>0.447701</td>\n",
              "      <td>0.886435</td>\n",
              "      <td>00:38</td>\n",
              "    </tr>\n",
              "    <tr>\n",
              "      <td>6</td>\n",
              "      <td>0.533663</td>\n",
              "      <td>0.567141</td>\n",
              "      <td>0.895899</td>\n",
              "      <td>00:38</td>\n",
              "    </tr>\n",
              "    <tr>\n",
              "      <td>7</td>\n",
              "      <td>0.290888</td>\n",
              "      <td>0.059143</td>\n",
              "      <td>0.984227</td>\n",
              "      <td>00:38</td>\n",
              "    </tr>\n",
              "    <tr>\n",
              "      <td>8</td>\n",
              "      <td>0.264834</td>\n",
              "      <td>0.193246</td>\n",
              "      <td>0.936909</td>\n",
              "      <td>00:39</td>\n",
              "    </tr>\n",
              "    <tr>\n",
              "      <td>9</td>\n",
              "      <td>0.378496</td>\n",
              "      <td>0.128241</td>\n",
              "      <td>0.955836</td>\n",
              "      <td>00:38</td>\n",
              "    </tr>\n",
              "    <tr>\n",
              "      <td>10</td>\n",
              "      <td>0.227266</td>\n",
              "      <td>0.109323</td>\n",
              "      <td>0.977918</td>\n",
              "      <td>00:39</td>\n",
              "    </tr>\n",
              "    <tr>\n",
              "      <td>11</td>\n",
              "      <td>0.149475</td>\n",
              "      <td>0.130269</td>\n",
              "      <td>0.965300</td>\n",
              "      <td>00:38</td>\n",
              "    </tr>\n",
              "    <tr>\n",
              "      <td>12</td>\n",
              "      <td>0.192310</td>\n",
              "      <td>0.072529</td>\n",
              "      <td>0.977918</td>\n",
              "      <td>00:38</td>\n",
              "    </tr>\n",
              "    <tr>\n",
              "      <td>13</td>\n",
              "      <td>0.194049</td>\n",
              "      <td>0.206173</td>\n",
              "      <td>0.936909</td>\n",
              "      <td>00:38</td>\n",
              "    </tr>\n",
              "    <tr>\n",
              "      <td>14</td>\n",
              "      <td>0.060350</td>\n",
              "      <td>0.029560</td>\n",
              "      <td>0.987382</td>\n",
              "      <td>00:38</td>\n",
              "    </tr>\n",
              "    <tr>\n",
              "      <td>15</td>\n",
              "      <td>0.073101</td>\n",
              "      <td>0.042372</td>\n",
              "      <td>0.984227</td>\n",
              "      <td>00:39</td>\n",
              "    </tr>\n",
              "    <tr>\n",
              "      <td>16</td>\n",
              "      <td>0.034773</td>\n",
              "      <td>0.073884</td>\n",
              "      <td>0.981073</td>\n",
              "      <td>00:38</td>\n",
              "    </tr>\n",
              "    <tr>\n",
              "      <td>17</td>\n",
              "      <td>0.057228</td>\n",
              "      <td>0.073649</td>\n",
              "      <td>0.981073</td>\n",
              "      <td>00:38</td>\n",
              "    </tr>\n",
              "    <tr>\n",
              "      <td>18</td>\n",
              "      <td>0.045078</td>\n",
              "      <td>0.053487</td>\n",
              "      <td>0.990536</td>\n",
              "      <td>00:38</td>\n",
              "    </tr>\n",
              "    <tr>\n",
              "      <td>19</td>\n",
              "      <td>0.023982</td>\n",
              "      <td>0.054879</td>\n",
              "      <td>0.990536</td>\n",
              "      <td>00:39</td>\n",
              "    </tr>\n",
              "  </tbody>\n",
              "</table>"
            ],
            "text/plain": [
              "<IPython.core.display.HTML object>"
            ]
          },
          "metadata": {
            "tags": []
          }
        },
        {
          "output_type": "stream",
          "text": [
            "/usr/local/lib/python3.7/dist-packages/torch/utils/data/dataloader.py:477: UserWarning: This DataLoader will create 4 worker processes in total. Our suggested max number of worker in current system is 2, which is smaller than what this DataLoader is going to create. Please be aware that excessive worker creation might get DataLoader running slow or even freeze, lower the worker number to avoid potential slowness/freeze if necessary.\n",
            "  cpuset_checked))\n"
          ],
          "name": "stderr"
        },
        {
          "output_type": "stream",
          "text": [
            "Better model found at epoch 0 with valid_loss value: 0.5246973037719727.\n",
            "Better model found at epoch 1 with valid_loss value: 0.36265814304351807.\n",
            "Better model found at epoch 2 with valid_loss value: 0.21734729409217834.\n",
            "Better model found at epoch 7 with valid_loss value: 0.05914280191063881.\n",
            "Better model found at epoch 14 with valid_loss value: 0.029559941962361336.\n"
          ],
          "name": "stdout"
        }
      ]
    },
    {
      "cell_type": "code",
      "metadata": {
        "id": "m0_5SPSPElQC"
      },
      "source": [
        "interp = ClassificationInterpretation.from_learner(learn_iv3)\n",
        "interp.plot_confusion_matrix(figsize=(6,6))"
      ],
      "execution_count": null,
      "outputs": []
    },
    {
      "cell_type": "code",
      "metadata": {
        "id": "IXJ695Jz6h3R"
      },
      "source": [
        "learn_iv3.export('models/inception_2/export.pkl')"
      ],
      "execution_count": null,
      "outputs": []
    },
    {
      "cell_type": "markdown",
      "metadata": {
        "id": "s01PzLLeNqWW"
      },
      "source": [
        "# Accuracy Functions"
      ]
    },
    {
      "cell_type": "code",
      "metadata": {
        "id": "6UEhkEC79wEx"
      },
      "source": [
        "def recall(y_true,y_pred,label):\n",
        "    total = 0\n",
        "    total_r = 0\n",
        "    for i in range(len(y_true)):\n",
        "        if y_true[i] == label:\n",
        "            total+=1\n",
        "            if y_true[i]==y_pred[i]:\n",
        "                total_r+=1\n",
        "    if total == 0:\n",
        "        return 0\n",
        "    rec = total_r/total\n",
        "    return rec\n",
        "def precision(y_true,y_pred,label):\n",
        "    total = 0\n",
        "    total_r = 0\n",
        "    for i in range(len(y_true)):\n",
        "        if y_pred[i] == label:\n",
        "            total+=1\n",
        "            if y_true[i]==y_pred[i]:\n",
        "                total_r+=1\n",
        "    if total == 0:\n",
        "        return 0\n",
        "    pres = total_r/total\n",
        "    return pres\n",
        "\n",
        "def mean_avg_precision(y_true, y_pred, classes):\n",
        "  mp = 0\n",
        "  m = []\n",
        "  mr = 0\n",
        "  for cls in classes:\n",
        "    if cls == 'not_error':\n",
        "      continue\n",
        "    else:\n",
        "      mp = mp + precision(y_true,y_pred,cls)\n",
        "      mr = mr + recall(y_true,y_pred,cls)\n",
        "      #m.append(precision(y_true,y_pred,cls))\n",
        "  fr = mr/(len(classes)-1)\n",
        "  fp = mp/(len(classes)-1)\n",
        "  f1 = 2 * (fp * fr) / (fp + fr) # f1 score\n",
        "  return fp, fr, f1\n",
        "  "
      ],
      "execution_count": null,
      "outputs": []
    },
    {
      "cell_type": "markdown",
      "metadata": {
        "id": "OhFY55Gv6RJh"
      },
      "source": [
        "# Validation Accuracy Resnet34"
      ]
    },
    {
      "cell_type": "code",
      "metadata": {
        "id": "S_qVbr4T6SP4",
        "colab": {
          "base_uri": "https://localhost:8080/"
        },
        "outputId": "974077bb-c766-4028-ab58-a424cae67dbd"
      },
      "source": [
        "learn = load_learner('training_csvs/models/resnet34')\n",
        "learn.data.classes"
      ],
      "execution_count": null,
      "outputs": [
        {
          "output_type": "execute_result",
          "data": {
            "text/plain": [
              "['mousebite', 'not_error', 'open', 'pin_hole', 'short', 'spur', 'spurious']"
            ]
          },
          "metadata": {
            "tags": []
          },
          "execution_count": 36
        }
      ]
    },
    {
      "cell_type": "code",
      "metadata": {
        "colab": {
          "base_uri": "https://localhost:8080/"
        },
        "id": "tYnaHjZ27JYa",
        "outputId": "054d92a3-0d8e-4eb6-c88c-acc315003830"
      },
      "source": [
        "test_dir = \"training_csvs/test_50600\"\n",
        "total_count = 0\n",
        "total_right = 0\n",
        "y_true = []\n",
        "y_pred = []\n",
        "classes = learn.data.classes\n",
        "for subdir, dirs, files in os.walk(test_dir):\n",
        "  #print(dirs)\n",
        "  for d in dirs:\n",
        "    #print(d)\n",
        "    for _,_, sfiles in os.walk(os.path.join(test_dir, d)):\n",
        "      for f in sfiles:\n",
        "        img_path = os.path.join(test_dir, d, f)\n",
        "        #print(img_path)\n",
        "        img = open_image(img_path)\n",
        "        prediction = learn.predict(img)\n",
        "        p = learn.data.classes[prediction[1].item()]\n",
        "        y_true.append(d)\n",
        "        y_pred.append(p)\n",
        "        if p == d:\n",
        "          total_right += 1\n",
        "        else:\n",
        "          print(p,d,img_path)\n",
        "        total_count+=1\n",
        "print(\"Accuracy = \", total_right/total_count)\n",
        "print(\"Mean Precision, Mean Recall, F1-Score = \", mean_avg_precision(y_true, y_pred, classes))"
      ],
      "execution_count": null,
      "outputs": [
        {
          "output_type": "stream",
          "text": [
            "spur short training_csvs/test_50600/short/extract_1016.png\n",
            "spur short training_csvs/test_50600/short/extract_1027.png\n",
            "spur spurious training_csvs/test_50600/spurious/extract_41.png\n",
            "spur spurious training_csvs/test_50600/spurious/extract_85.png\n",
            "spur spurious training_csvs/test_50600/spurious/extract_65.png\n",
            "spur spurious training_csvs/test_50600/spurious/extract_382.png\n",
            "spur spurious training_csvs/test_50600/spurious/extract_597.png\n",
            "spur spurious training_csvs/test_50600/spurious/extract_1107.png\n",
            "spur spurious training_csvs/test_50600/spurious/extract_1067.png\n",
            "spur spurious training_csvs/test_50600/spurious/extract_1014.png\n",
            "mousebite open training_csvs/test_50600/open/extract_515.png\n",
            "mousebite open training_csvs/test_50600/open/extract_1387.png\n",
            "short not_error training_csvs/test_50600/not_error/extract_163.png\n",
            "short not_error training_csvs/test_50600/not_error/extract_721.png\n",
            "short not_error training_csvs/test_50600/not_error/extract_545.png\n",
            "short not_error training_csvs/test_50600/not_error/extract_606.png\n",
            "short not_error training_csvs/test_50600/not_error/extract_593.png\n",
            "short not_error training_csvs/test_50600/not_error/extract_656.png\n",
            "short not_error training_csvs/test_50600/not_error/extract_861.png\n",
            "short not_error training_csvs/test_50600/not_error/extract_849.png\n",
            "mousebite not_error training_csvs/test_50600/not_error/extract_1414.png\n",
            "Accuracy =  0.9436997319034852\n",
            "Mean Precision, Mean Recall, F1-Score =  (0.9392009922090625, 0.9583770957326797, 0.948692151266248)\n"
          ],
          "name": "stdout"
        }
      ]
    },
    {
      "cell_type": "markdown",
      "metadata": {
        "id": "MaFoz1bNDBOW"
      },
      "source": [
        "# Validation Accuracy VGG16"
      ]
    },
    {
      "cell_type": "code",
      "metadata": {
        "colab": {
          "base_uri": "https://localhost:8080/"
        },
        "id": "aWTC0GvGDDAG",
        "outputId": "de23b12d-a0f1-4528-ef76-6ec5012a7c28"
      },
      "source": [
        "learn_vgg = load_learner('training_csvs/models/vgg16')\n",
        "learn_vgg.data.classes"
      ],
      "execution_count": null,
      "outputs": [
        {
          "output_type": "execute_result",
          "data": {
            "text/plain": [
              "['mousebite', 'not_error', 'open', 'pin_hole', 'short', 'spur', 'spurious']"
            ]
          },
          "metadata": {
            "tags": []
          },
          "execution_count": 39
        }
      ]
    },
    {
      "cell_type": "code",
      "metadata": {
        "colab": {
          "base_uri": "https://localhost:8080/"
        },
        "id": "JqY4ZsjLDJDk",
        "outputId": "178efe7f-2d21-4b7c-8ea2-8bed15363efb"
      },
      "source": [
        "test_dir = \"training_csvs/test_50600\"\n",
        "total_count = 0\n",
        "total_right = 0\n",
        "y_true = []\n",
        "y_pred = []\n",
        "classes = learn.data.classes\n",
        "for subdir, dirs, files in os.walk(test_dir):\n",
        "  #print(dirs)\n",
        "  for d in dirs:\n",
        "    #print(d)\n",
        "    for _,_, sfiles in os.walk(os.path.join(test_dir, d)):\n",
        "      for f in sfiles:\n",
        "        img_path = os.path.join(test_dir, d, f)\n",
        "        #print(img_path)\n",
        "        img = open_image(img_path)\n",
        "        prediction = learn_vgg.predict(img)\n",
        "        p = learn_vgg.data.classes[prediction[1].item()]\n",
        "        y_true.append(d)\n",
        "        y_pred.append(p)\n",
        "        if p == d:\n",
        "          total_right += 1\n",
        "        else:\n",
        "          print(p,d,img_path)\n",
        "        total_count+=1\n",
        "print(\"Accuracy = \", total_right/total_count)\n",
        "print(\"Mean Precision, Mean Recall, F1-Score = \", mean_avg_precision(y_true, y_pred, classes))"
      ],
      "execution_count": null,
      "outputs": [
        {
          "output_type": "stream",
          "text": [
            "spur spurious training_csvs/test_50600/spurious/extract_41.png\n",
            "spur spurious training_csvs/test_50600/spurious/extract_85.png\n",
            "spur spurious training_csvs/test_50600/spurious/extract_382.png\n",
            "spur spurious training_csvs/test_50600/spurious/extract_597.png\n",
            "spur spurious training_csvs/test_50600/spurious/extract_1107.png\n",
            "spur spurious training_csvs/test_50600/spurious/extract_1067.png\n",
            "spur spurious training_csvs/test_50600/spurious/extract_1014.png\n",
            "mousebite open training_csvs/test_50600/open/extract_49.png\n",
            "mousebite open training_csvs/test_50600/open/extract_144.png\n",
            "mousebite open training_csvs/test_50600/open/extract_515.png\n",
            "mousebite open training_csvs/test_50600/open/extract_1442.png\n",
            "mousebite open training_csvs/test_50600/open/extract_1292.png\n",
            "mousebite open training_csvs/test_50600/open/extract_1387.png\n",
            "mousebite pin_hole training_csvs/test_50600/pin_hole/extract_145.png\n",
            "Accuracy =  0.9624664879356568\n",
            "Mean Precision, Mean Recall, F1-Score =  (0.9637698603755417, 0.9468481810587074, 0.9552340860036727)\n"
          ],
          "name": "stdout"
        }
      ]
    },
    {
      "cell_type": "markdown",
      "metadata": {
        "id": "QMIHnBDxNLEa"
      },
      "source": [
        "# Validation Accuracy Inception"
      ]
    },
    {
      "cell_type": "code",
      "metadata": {
        "id": "vfsBNbGO3ode"
      },
      "source": [
        "def my_loss(preds,target):\n",
        "  if isinstance(preds, tuple):\n",
        "    loss = sum((F.cross_entropy(o,target) for o in preds))\n",
        "  else:\n",
        "    loss = F.cross_entropy(preds,target)\n",
        "  return loss"
      ],
      "execution_count": null,
      "outputs": []
    },
    {
      "cell_type": "code",
      "metadata": {
        "colab": {
          "base_uri": "https://localhost:8080/"
        },
        "id": "GtOcnW8zDNej",
        "outputId": "2d6bb30c-5cf6-437d-c665-0751816bf042"
      },
      "source": [
        "learn_inc = load_learner('training_csvs/models/inception')\n",
        "learn_inc.data.classes"
      ],
      "execution_count": null,
      "outputs": [
        {
          "output_type": "execute_result",
          "data": {
            "text/plain": [
              "['mousebite', 'not_error', 'open', 'pin_hole', 'short', 'spur', 'spurious']"
            ]
          },
          "metadata": {
            "tags": []
          },
          "execution_count": 41
        }
      ]
    },
    {
      "cell_type": "code",
      "metadata": {
        "colab": {
          "base_uri": "https://localhost:8080/"
        },
        "id": "SwjJN0WoNRVt",
        "outputId": "dfe19e0e-49f4-40dd-8b49-c5653fcc2062"
      },
      "source": [
        "test_dir = \"training_csvs/test_50600\"\n",
        "total_count = 0\n",
        "total_right = 0\n",
        "y_true = []\n",
        "y_pred = []\n",
        "classes = learn.data.classes\n",
        "for subdir, dirs, files in os.walk(test_dir):\n",
        "  #print(dirs)\n",
        "  for d in dirs:\n",
        "    #print(d)\n",
        "    for _,_, sfiles in os.walk(os.path.join(test_dir, d)):\n",
        "      for f in sfiles:\n",
        "        img_path = os.path.join(test_dir, d, f)\n",
        "        #print(img_path)\n",
        "        img = open_image(img_path)\n",
        "        prediction = learn_inc.predict(img)\n",
        "        p = learn_inc.data.classes[prediction[1].item()]\n",
        "        y_true.append(d)\n",
        "        y_pred.append(p)\n",
        "        if p == d:\n",
        "          total_right += 1\n",
        "        else:\n",
        "          print(p,d,img_path)\n",
        "        total_count+=1\n",
        "print(\"Accuracy = \", total_right/total_count)\n",
        "print(\"Mean Precision, Mean Recall, F1-Score = \", mean_avg_precision(y_true, y_pred, classes))"
      ],
      "execution_count": null,
      "outputs": [
        {
          "output_type": "stream",
          "text": [
            "mousebite open training_csvs/test_50600/open/extract_515.png\n",
            "mousebite open training_csvs/test_50600/open/extract_556.png\n",
            "not_error open training_csvs/test_50600/open/extract_1292.png\n",
            "mousebite open training_csvs/test_50600/open/extract_1387.png\n",
            "mousebite open training_csvs/test_50600/open/extract_1443.png\n",
            "short not_error training_csvs/test_50600/not_error/extract_721.png\n",
            "Accuracy =  0.9839142091152815\n",
            "Mean Precision, Mean Recall, F1-Score =  (0.9847323110034975, 0.9747474747474748, 0.9797144532267119)\n"
          ],
          "name": "stdout"
        }
      ]
    },
    {
      "cell_type": "markdown",
      "metadata": {
        "id": "sWmlOt1r0HRt"
      },
      "source": [
        "# Test Accuracy Resnet34"
      ]
    },
    {
      "cell_type": "code",
      "metadata": {
        "id": "gqGoNYHmNT7l",
        "colab": {
          "base_uri": "https://localhost:8080/"
        },
        "outputId": "184e2c66-9d9e-4f16-e2b4-cafa4dc42f4a"
      },
      "source": [
        "learn = load_learner('training_csvs/models/resnet34_2')\n",
        "learn.data.classes"
      ],
      "execution_count": null,
      "outputs": [
        {
          "output_type": "execute_result",
          "data": {
            "text/plain": [
              "['mousebite', 'not_error', 'open', 'pin_hole', 'short', 'spur', 'spurious']"
            ]
          },
          "metadata": {
            "tags": []
          },
          "execution_count": 43
        }
      ]
    },
    {
      "cell_type": "code",
      "metadata": {
        "colab": {
          "base_uri": "https://localhost:8080/"
        },
        "id": "L2q2FpLf0Pnj",
        "outputId": "a072dfa0-fc15-4ba1-d0eb-b96ecc98b868"
      },
      "source": [
        "test_dir = \"training_csvs/test_50600\"\n",
        "total_count = 0\n",
        "total_right = 0\n",
        "y_true = []\n",
        "y_pred = []\n",
        "classes = learn.data.classes\n",
        "for subdir, dirs, files in os.walk(test_dir):\n",
        "  #print(dirs)\n",
        "  for d in dirs:\n",
        "    #print(d)\n",
        "    for _,_, sfiles in os.walk(os.path.join(test_dir, d)):\n",
        "      for f in sfiles:\n",
        "        img_path = os.path.join(test_dir, d, f)\n",
        "        #print(img_path)\n",
        "        img = open_image(img_path)\n",
        "        prediction = learn.predict(img)\n",
        "        p = learn.data.classes[prediction[1].item()]\n",
        "        y_true.append(d)\n",
        "        y_pred.append(p)\n",
        "        if p == d:\n",
        "          total_right += 1\n",
        "        else:\n",
        "          print(p,d,img_path)\n",
        "        total_count+=1\n",
        "print(\"Accuracy = \", total_right/total_count)\n",
        "print(\"Mean Precision, Mean Recall, F1-Score = \", mean_avg_precision(y_true, y_pred, classes))"
      ],
      "execution_count": null,
      "outputs": [
        {
          "output_type": "stream",
          "text": [
            "spur spurious training_csvs/test_50600/spurious/extract_41.png\n",
            "spur spurious training_csvs/test_50600/spurious/extract_85.png\n",
            "spur spurious training_csvs/test_50600/spurious/extract_65.png\n",
            "spur spurious training_csvs/test_50600/spurious/extract_382.png\n",
            "spur spurious training_csvs/test_50600/spurious/extract_597.png\n",
            "spur spurious training_csvs/test_50600/spurious/extract_1107.png\n",
            "spur spurious training_csvs/test_50600/spurious/extract_1067.png\n",
            "spur spurious training_csvs/test_50600/spurious/extract_1014.png\n",
            "mousebite open training_csvs/test_50600/open/extract_1387.png\n",
            "Accuracy =  0.9758713136729222\n",
            "Mean Precision, Mean Recall, F1-Score =  (0.9774159663865546, 0.971557682083998, 0.9744780197306602)\n"
          ],
          "name": "stdout"
        }
      ]
    },
    {
      "cell_type": "markdown",
      "metadata": {
        "id": "O7OFzRqB2qH0"
      },
      "source": [
        "# Test Accuracy VGG16"
      ]
    },
    {
      "cell_type": "code",
      "metadata": {
        "colab": {
          "base_uri": "https://localhost:8080/"
        },
        "id": "IlHRWzVp0aoI",
        "outputId": "7ddd8236-8538-4cd1-eb29-022941df1c1e"
      },
      "source": [
        "learn_vgg = load_learner('training_csvs/models/vgg16_2')\n",
        "learn_vgg.data.classes"
      ],
      "execution_count": null,
      "outputs": [
        {
          "output_type": "execute_result",
          "data": {
            "text/plain": [
              "['mousebite', 'not_error', 'open', 'pin_hole', 'short', 'spur', 'spurious']"
            ]
          },
          "metadata": {
            "tags": []
          },
          "execution_count": 45
        }
      ]
    },
    {
      "cell_type": "code",
      "metadata": {
        "colab": {
          "base_uri": "https://localhost:8080/"
        },
        "id": "CbJgdQEb2veE",
        "outputId": "8e2391f4-e865-4cb2-dfc6-a8703505e567"
      },
      "source": [
        "test_dir = \"training_csvs/test_50600\"\n",
        "total_count = 0\n",
        "total_right = 0\n",
        "y_true = []\n",
        "y_pred = []\n",
        "classes = learn.data.classes\n",
        "for subdir, dirs, files in os.walk(test_dir):\n",
        "  #print(dirs)\n",
        "  for d in dirs:\n",
        "    #print(d)\n",
        "    for _,_, sfiles in os.walk(os.path.join(test_dir, d)):\n",
        "      for f in sfiles:\n",
        "        img_path = os.path.join(test_dir, d, f)\n",
        "        #print(img_path)\n",
        "        img = open_image(img_path)\n",
        "        prediction = learn_vgg.predict(img)\n",
        "        p = learn_vgg.data.classes[prediction[1].item()]\n",
        "        y_true.append(d)\n",
        "        y_pred.append(p)\n",
        "        if p == d:\n",
        "          total_right += 1\n",
        "        else:\n",
        "          print(p,d,img_path)\n",
        "        total_count+=1\n",
        "print(\"Accuracy = \", total_right/total_count)\n",
        "print(\"Mean Precision, Mean Recall, F1-Score = \", mean_avg_precision(y_true, y_pred, classes))"
      ],
      "execution_count": null,
      "outputs": [
        {
          "output_type": "stream",
          "text": [
            "spur spurious training_csvs/test_50600/spurious/extract_41.png\n",
            "spur spurious training_csvs/test_50600/spurious/extract_85.png\n",
            "spur spurious training_csvs/test_50600/spurious/extract_65.png\n",
            "spur spurious training_csvs/test_50600/spurious/extract_382.png\n",
            "spur spurious training_csvs/test_50600/spurious/extract_597.png\n",
            "spur spurious training_csvs/test_50600/spurious/extract_1143.png\n",
            "spur spurious training_csvs/test_50600/spurious/extract_1107.png\n",
            "spur spurious training_csvs/test_50600/spurious/extract_1067.png\n",
            "spur spurious training_csvs/test_50600/spurious/extract_1014.png\n",
            "mousebite open training_csvs/test_50600/open/extract_49.png\n",
            "mousebite open training_csvs/test_50600/open/extract_144.png\n",
            "mousebite open training_csvs/test_50600/open/extract_515.png\n",
            "mousebite open training_csvs/test_50600/open/extract_471.png\n",
            "mousebite open training_csvs/test_50600/open/extract_755.png\n",
            "mousebite open training_csvs/test_50600/open/extract_1228.png\n",
            "pin_hole open training_csvs/test_50600/open/extract_1292.png\n",
            "mousebite open training_csvs/test_50600/open/extract_1387.png\n",
            "mousebite open training_csvs/test_50600/open/extract_1443.png\n",
            "short not_error training_csvs/test_50600/not_error/extract_601.png\n",
            "short not_error training_csvs/test_50600/not_error/extract_593.png\n",
            "short not_error training_csvs/test_50600/not_error/extract_849.png\n",
            "Accuracy =  0.9436997319034852\n",
            "Mean Precision, Mean Recall, F1-Score =  (0.9433857941971843, 0.9282296650717704, 0.9357463633295218)\n"
          ],
          "name": "stdout"
        }
      ]
    },
    {
      "cell_type": "markdown",
      "metadata": {
        "id": "22H7JDv13aM5"
      },
      "source": [
        "# Test Accuracy Inception"
      ]
    },
    {
      "cell_type": "code",
      "metadata": {
        "id": "mj61_Ocs3j0o"
      },
      "source": [
        "def my_loss(preds,target):\n",
        "  if isinstance(preds, tuple):\n",
        "    loss = sum((F.cross_entropy(o,target) for o in preds))\n",
        "  else:\n",
        "    loss = F.cross_entropy(preds,target)\n",
        "  return loss"
      ],
      "execution_count": null,
      "outputs": []
    },
    {
      "cell_type": "code",
      "metadata": {
        "colab": {
          "base_uri": "https://localhost:8080/"
        },
        "id": "2Ed_xGzp2yTI",
        "outputId": "3868d6e0-7b79-4866-85db-35ccb2ef955e"
      },
      "source": [
        "learn_inc = load_learner('training_csvs/models/inception_2')\n",
        "learn_inc.data.classes"
      ],
      "execution_count": null,
      "outputs": [
        {
          "output_type": "execute_result",
          "data": {
            "text/plain": [
              "['mousebite', 'not_error', 'open', 'pin_hole', 'short', 'spur', 'spurious']"
            ]
          },
          "metadata": {
            "tags": []
          },
          "execution_count": 47
        }
      ]
    },
    {
      "cell_type": "code",
      "metadata": {
        "colab": {
          "base_uri": "https://localhost:8080/"
        },
        "id": "T2ooJWAd3gb_",
        "outputId": "f8d3192f-4560-4b37-a0d1-634d31e1c88d"
      },
      "source": [
        "test_dir = \"training_csvs/test_50600\"\n",
        "total_count = 0\n",
        "total_right = 0\n",
        "y_true = []\n",
        "y_pred = []\n",
        "classes = learn.data.classes\n",
        "for subdir, dirs, files in os.walk(test_dir):\n",
        "  #print(dirs)\n",
        "  for d in dirs:\n",
        "    #print(d)\n",
        "    for _,_, sfiles in os.walk(os.path.join(test_dir, d)):\n",
        "      for f in sfiles:\n",
        "        img_path = os.path.join(test_dir, d, f)\n",
        "        #print(img_path)\n",
        "        img = open_image(img_path)\n",
        "        prediction = learn_inc.predict(img)\n",
        "        p = learn_inc.data.classes[prediction[1].item()]\n",
        "        y_true.append(d)\n",
        "        y_pred.append(p)\n",
        "        if p == d:\n",
        "          total_right += 1\n",
        "        else:\n",
        "          print(p,d,img_path)\n",
        "        total_count+=1\n",
        "print(\"Accuracy = \", total_right/total_count)\n",
        "print(\"Mean Precision, Mean Recall, F1-Score = \", mean_avg_precision(y_true, y_pred, classes))"
      ],
      "execution_count": null,
      "outputs": [
        {
          "output_type": "stream",
          "text": [
            "short not_error training_csvs/test_50600/not_error/extract_606.png\n",
            "short not_error training_csvs/test_50600/not_error/extract_295.png\n",
            "short not_error training_csvs/test_50600/not_error/extract_849.png\n",
            "Accuracy =  0.9919571045576407\n",
            "Mean Precision, Mean Recall, F1-Score =  (0.9886363636363636, 1.0, 0.9942857142857142)\n"
          ],
          "name": "stdout"
        }
      ]
    },
    {
      "cell_type": "code",
      "metadata": {
        "id": "qdfPnn3t3sxI"
      },
      "source": [
        ""
      ],
      "execution_count": null,
      "outputs": []
    }
  ]
}